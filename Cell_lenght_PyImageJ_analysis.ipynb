{
  "nbformat": 4,
  "nbformat_minor": 0,
  "metadata": {
    "colab": {
      "provenance": [],
      "authorship_tag": "ABX9TyMrGL4Krl0Lnj9irtbgGtYK"
    },
    "kernelspec": {
      "name": "python3",
      "display_name": "Python 3"
    },
    "language_info": {
      "name": "python"
    }
  },
  "cells": [
    {
      "cell_type": "markdown",
      "source": [
        "# **Создание окружения для работы ImageJ в Google Colab**\n",
        "---\n",
        "⛔ **Опасная зона!**\n",
        "<br>Пожалуйста, не изменяйте и не переносити фрагменты кода из этого раздела."
      ],
      "metadata": {
        "id": "UqA0LUJB_vFY"
      }
    },
    {
      "cell_type": "code",
      "execution_count": null,
      "metadata": {
        "id": "layS5rTj52IU"
      },
      "outputs": [],
      "source": [
        "# установка JDK8 в Google Colab\n",
        "import os\n",
        "def install_java():\n",
        "    !apt-get install -y openjdk-8-jdk-headless -qq > /dev/null    # установка openjdk\n",
        "    os.environ[\"JAVA_HOME\"] = \"/usr/lib/jvm/java-8-openjdk-amd64\"    # настройка окружения\n",
        "    !java -version\n",
        "!apt update install_java()"
      ]
    },
    {
      "cell_type": "code",
      "source": [
        "# установка Maven в Google Colab\n",
        "!sudo apt-get install maven"
      ],
      "metadata": {
        "id": "VUl8u9Y-54qB"
      },
      "execution_count": null,
      "outputs": []
    },
    {
      "cell_type": "code",
      "source": [
        "# установка PyImageJ в Google Colab\n",
        "!pip install Cython pyimagej"
      ],
      "metadata": {
        "id": "miDZsEPd57s4"
      },
      "execution_count": null,
      "outputs": []
    },
    {
      "cell_type": "code",
      "source": [
        "# установка PyJnius в Google Colab\n",
        "!wget https://anaconda.org/conda-forge/pyjnius/1.2.0/download/osx-64/pyjnius-1.2.0-py37h90b5fae_0.tar.bz2 && tar -xjf pyjnius-1.2.0-py37h90b5fae_0.tar.bz2 -C /usr/local\n",
        "# настройка рабочей среды \n",
        "os.environ[\"PYJNIUS_JAR\"] = \"/usr/local/share/pyjnius/pyjnius.jar\""
      ],
      "metadata": {
        "id": "MkQFIzqi59rY"
      },
      "execution_count": null,
      "outputs": []
    },
    {
      "cell_type": "code",
      "source": [
        "# запуск PyImageJ с плагинами Fiji версии 2.9.0/1.53t\n",
        "import imagej\n",
        "ij = imagej.init('sc.fiji:fiji:2.9.0')\n",
        "print(ij.getVersion())"
      ],
      "metadata": {
        "id": "ew-WySyR5_1w",
        "colab": {
          "base_uri": "https://localhost:8080/"
        },
        "outputId": "75fa24f3-8f8f-4f99-d314-f2446acbc622"
      },
      "execution_count": 5,
      "outputs": [
        {
          "output_type": "stream",
          "name": "stdout",
          "text": [
            "2.9.0/1.53t\n"
          ]
        }
      ]
    },
    {
      "cell_type": "code",
      "source": [
        "# при возникновении проблем с версией 2.9.0/1.53t доступен вызов imagej.init('sc.fiji:fiji'), однако в таком случае не гарантируется работоспособность сценария исполнения команд ImageJ2"
      ],
      "metadata": {
        "id": "9DMvqCRcvmfv"
      },
      "execution_count": 19,
      "outputs": []
    },
    {
      "cell_type": "markdown",
      "source": [
        "# **Автоматизированный анализ изображений средствами PyImageJ**"
      ],
      "metadata": {
        "id": "Fir2dyqM_B6A"
      }
    },
    {
      "cell_type": "markdown",
      "source": [
        "![parametr.png](data:image/png;base64,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)\n",
        "\n",
        "Параметры, используемые при бинаризации изображения:\n",
        "*   метод установки порога - Triangle (method=Triangle)\n",
        "*   цвет фона - светлый (background=Light)\n",
        "\n",
        "Параметры, используемые при анализе частиц:\n",
        "*   размер 0.40-2.50 мкм.^2 (size=0.40-2.50)\n",
        "*   округлость 0.00-0.40 (circularity=0.00-0.40)\n",
        "\n",
        "Оцениваемые характеристики:\n",
        "*   площадь, мкм.^2 (area)\n",
        "*   форма = округлость (citcularity)\n",
        "*   диаметр Фере, мкм. (feret)\n",
        "*   прочие измерения, связанные с вычислением даиметра Фере, не рассматриваются\n",
        "\n",
        "\n",
        "\n",
        "\n",
        "\n"
      ],
      "metadata": {
        "id": "PkAE-0X6Ly54"
      }
    },
    {
      "cell_type": "code",
      "source": [
        "from scyjava import jimport\n",
        "\n",
        "# сценарий исполнения ImageJ2 команд обработки изображения\n",
        "imp = ij.IJ.openImage(\"/content/gmax-2490-28-15-12-2.lsm\");\n",
        "ij.py.run_plugin(plugin=\"Set Measurements...\", args=\"area shape feret's stack redirect=None decimal=3\");\n",
        "ij.py.run_plugin(imp=imp, plugin=\"8-bit\", args=\"\");\n",
        "ij.IJ.setAutoThreshold(imp, \"Default dark\");\n",
        "ij.py.run_plugin(imp=imp, plugin=\"Convert to Mask\", args=\"method=Triangle background=Light calculate\");\n",
        "ij.py.run_plugin(imp=imp, plugin=\"Analyze Particles...\", args=\"size=0.40-2.50 circularity=0.00-0.40 show=Outlines display exclude clear overlay stack\");\n",
        "ij.IJ.saveAs('Results', \"/content/Results.csv\");"
      ],
      "metadata": {
        "id": "JgipUFTTJ5cp"
      },
      "execution_count": null,
      "outputs": []
    },
    {
      "cell_type": "markdown",
      "source": [
        "# **Статистическая обработка результатов морфометрического анализа**"
      ],
      "metadata": {
        "id": "k5fZhbDvWKOA"
      }
    },
    {
      "cell_type": "code",
      "source": [
        "import pandas as pd\n",
        "import numpy as np\n",
        "import seaborn as sns\n",
        "from scipy import stats as st\n",
        "import matplotlib.pyplot as plt\n",
        "import statsmodels.api as sm\n",
        "from tqdm.notebook import tqdm"
      ],
      "metadata": {
        "id": "ZnxdhQ1ZB6LE"
      },
      "execution_count": 10,
      "outputs": []
    },
    {
      "cell_type": "markdown",
      "source": [
        "Введите в поле ниже название анализируемого образца"
      ],
      "metadata": {
        "id": "zj8dWN6TSVNl"
      }
    },
    {
      "cell_type": "code",
      "source": [
        "sample_name = \"gmax-2490-28-15-12-2\""
      ],
      "metadata": {
        "id": "F2BM6DkRSc5n"
      },
      "execution_count": 11,
      "outputs": []
    },
    {
      "cell_type": "code",
      "source": [
        "# предобработка данных и очистка выбросов\n",
        "data_bacteria = pd.read_csv(\"/content/Results.csv\", index_col=0)\n",
        "slice = data_bacteria.Slice.unique()\n",
        "\n",
        "for i in slice:\n",
        "    if i%2!=0:\n",
        "        data_bacteria = data_bacteria.query('Slice != @i')      \n",
        "\n",
        "names = ['Feret', 'Area']\n",
        "for name in names:\n",
        "    Q1 = data_bacteria[name].quantile(0.25)\n",
        "    Q3 = data_bacteria[name].quantile(0.75)\n",
        "    IQR = Q3 - Q1\n",
        "    Floor = Q1 - IQR * 1.5\n",
        "    Top = Q3 + IQR * 1.5\n",
        "    data_bacteria = data_bacteria[data_bacteria[name] >= Floor]\n",
        "    data_bacteria = data_bacteria[data_bacteria[name] <= Top]\n",
        "    \n",
        "display(data_bacteria[['Feret','Area']].describe())"
      ],
      "metadata": {
        "id": "ThKhVP4zB1-k",
        "colab": {
          "base_uri": "https://localhost:8080/",
          "height": 300
        },
        "outputId": "bd274b23-17f8-4526-e4cb-f5fde964b4de"
      },
      "execution_count": 16,
      "outputs": [
        {
          "output_type": "display_data",
          "data": {
            "text/plain": [
              "            Feret        Area\n",
              "count  723.000000  723.000000\n",
              "mean     2.124072    0.758411\n",
              "std      0.401958    0.258966\n",
              "min      1.140000    0.402000\n",
              "25%      1.845000    0.555000\n",
              "50%      2.093000    0.708000\n",
              "75%      2.397000    0.899000\n",
              "max      3.372000    1.578000"
            ],
            "text/html": [
              "\n",
              "  <div id=\"df-bd0802d5-1d89-40f8-acf8-f6d259c48321\">\n",
              "    <div class=\"colab-df-container\">\n",
              "      <div>\n",
              "<style scoped>\n",
              "    .dataframe tbody tr th:only-of-type {\n",
              "        vertical-align: middle;\n",
              "    }\n",
              "\n",
              "    .dataframe tbody tr th {\n",
              "        vertical-align: top;\n",
              "    }\n",
              "\n",
              "    .dataframe thead th {\n",
              "        text-align: right;\n",
              "    }\n",
              "</style>\n",
              "<table border=\"1\" class=\"dataframe\">\n",
              "  <thead>\n",
              "    <tr style=\"text-align: right;\">\n",
              "      <th></th>\n",
              "      <th>Feret</th>\n",
              "      <th>Area</th>\n",
              "    </tr>\n",
              "  </thead>\n",
              "  <tbody>\n",
              "    <tr>\n",
              "      <th>count</th>\n",
              "      <td>723.000000</td>\n",
              "      <td>723.000000</td>\n",
              "    </tr>\n",
              "    <tr>\n",
              "      <th>mean</th>\n",
              "      <td>2.124072</td>\n",
              "      <td>0.758411</td>\n",
              "    </tr>\n",
              "    <tr>\n",
              "      <th>std</th>\n",
              "      <td>0.401958</td>\n",
              "      <td>0.258966</td>\n",
              "    </tr>\n",
              "    <tr>\n",
              "      <th>min</th>\n",
              "      <td>1.140000</td>\n",
              "      <td>0.402000</td>\n",
              "    </tr>\n",
              "    <tr>\n",
              "      <th>25%</th>\n",
              "      <td>1.845000</td>\n",
              "      <td>0.555000</td>\n",
              "    </tr>\n",
              "    <tr>\n",
              "      <th>50%</th>\n",
              "      <td>2.093000</td>\n",
              "      <td>0.708000</td>\n",
              "    </tr>\n",
              "    <tr>\n",
              "      <th>75%</th>\n",
              "      <td>2.397000</td>\n",
              "      <td>0.899000</td>\n",
              "    </tr>\n",
              "    <tr>\n",
              "      <th>max</th>\n",
              "      <td>3.372000</td>\n",
              "      <td>1.578000</td>\n",
              "    </tr>\n",
              "  </tbody>\n",
              "</table>\n",
              "</div>\n",
              "      <button class=\"colab-df-convert\" onclick=\"convertToInteractive('df-bd0802d5-1d89-40f8-acf8-f6d259c48321')\"\n",
              "              title=\"Convert this dataframe to an interactive table.\"\n",
              "              style=\"display:none;\">\n",
              "        \n",
              "  <svg xmlns=\"http://www.w3.org/2000/svg\" height=\"24px\"viewBox=\"0 0 24 24\"\n",
              "       width=\"24px\">\n",
              "    <path d=\"M0 0h24v24H0V0z\" fill=\"none\"/>\n",
              "    <path d=\"M18.56 5.44l.94 2.06.94-2.06 2.06-.94-2.06-.94-.94-2.06-.94 2.06-2.06.94zm-11 1L8.5 8.5l.94-2.06 2.06-.94-2.06-.94L8.5 2.5l-.94 2.06-2.06.94zm10 10l.94 2.06.94-2.06 2.06-.94-2.06-.94-.94-2.06-.94 2.06-2.06.94z\"/><path d=\"M17.41 7.96l-1.37-1.37c-.4-.4-.92-.59-1.43-.59-.52 0-1.04.2-1.43.59L10.3 9.45l-7.72 7.72c-.78.78-.78 2.05 0 2.83L4 21.41c.39.39.9.59 1.41.59.51 0 1.02-.2 1.41-.59l7.78-7.78 2.81-2.81c.8-.78.8-2.07 0-2.86zM5.41 20L4 18.59l7.72-7.72 1.47 1.35L5.41 20z\"/>\n",
              "  </svg>\n",
              "      </button>\n",
              "      \n",
              "  <style>\n",
              "    .colab-df-container {\n",
              "      display:flex;\n",
              "      flex-wrap:wrap;\n",
              "      gap: 12px;\n",
              "    }\n",
              "\n",
              "    .colab-df-convert {\n",
              "      background-color: #E8F0FE;\n",
              "      border: none;\n",
              "      border-radius: 50%;\n",
              "      cursor: pointer;\n",
              "      display: none;\n",
              "      fill: #1967D2;\n",
              "      height: 32px;\n",
              "      padding: 0 0 0 0;\n",
              "      width: 32px;\n",
              "    }\n",
              "\n",
              "    .colab-df-convert:hover {\n",
              "      background-color: #E2EBFA;\n",
              "      box-shadow: 0px 1px 2px rgba(60, 64, 67, 0.3), 0px 1px 3px 1px rgba(60, 64, 67, 0.15);\n",
              "      fill: #174EA6;\n",
              "    }\n",
              "\n",
              "    [theme=dark] .colab-df-convert {\n",
              "      background-color: #3B4455;\n",
              "      fill: #D2E3FC;\n",
              "    }\n",
              "\n",
              "    [theme=dark] .colab-df-convert:hover {\n",
              "      background-color: #434B5C;\n",
              "      box-shadow: 0px 1px 3px 1px rgba(0, 0, 0, 0.15);\n",
              "      filter: drop-shadow(0px 1px 2px rgba(0, 0, 0, 0.3));\n",
              "      fill: #FFFFFF;\n",
              "    }\n",
              "  </style>\n",
              "\n",
              "      <script>\n",
              "        const buttonEl =\n",
              "          document.querySelector('#df-bd0802d5-1d89-40f8-acf8-f6d259c48321 button.colab-df-convert');\n",
              "        buttonEl.style.display =\n",
              "          google.colab.kernel.accessAllowed ? 'block' : 'none';\n",
              "\n",
              "        async function convertToInteractive(key) {\n",
              "          const element = document.querySelector('#df-bd0802d5-1d89-40f8-acf8-f6d259c48321');\n",
              "          const dataTable =\n",
              "            await google.colab.kernel.invokeFunction('convertToInteractive',\n",
              "                                                     [key], {});\n",
              "          if (!dataTable) return;\n",
              "\n",
              "          const docLinkHtml = 'Like what you see? Visit the ' +\n",
              "            '<a target=\"_blank\" href=https://colab.research.google.com/notebooks/data_table.ipynb>data table notebook</a>'\n",
              "            + ' to learn more about interactive tables.';\n",
              "          element.innerHTML = '';\n",
              "          dataTable['output_type'] = 'display_data';\n",
              "          await google.colab.output.renderOutput(dataTable, element);\n",
              "          const docLink = document.createElement('div');\n",
              "          docLink.innerHTML = docLinkHtml;\n",
              "          element.appendChild(docLink);\n",
              "        }\n",
              "      </script>\n",
              "    </div>\n",
              "  </div>\n",
              "  "
            ]
          },
          "metadata": {}
        }
      ]
    },
    {
      "cell_type": "code",
      "source": [
        "# сохраняем датафрейм с очищенными данными\n",
        "output_name = 'Results_' + sample_name + '.csv'\n",
        "data_bacteria.reset_index(drop=True).to_csv(output_name)"
      ],
      "metadata": {
        "id": "WVzADW45PVtH"
      },
      "execution_count": 17,
      "outputs": []
    },
    {
      "cell_type": "code",
      "source": [
        "# визуализация диаметра Фере и площади клеток\n",
        "plt.figure(figsize=(12, 3))\n",
        "\n",
        "ax1 = plt.subplot(1, 2, 1)\n",
        "sns.violinplot(data=data_bacteria, x='Feret', palette='Set2')\n",
        "plt.title(sample_name)\n",
        "plt.xlabel('Диаметр Фере, мкм.')\n",
        "plt.grid(False)\n",
        "\n",
        "ax2 = plt.subplot(1, 2, 2)\n",
        "sns.violinplot(data=data_bacteria, x='Area', color='Orange')\n",
        "plt.title(sample_name)\n",
        "plt.xlabel('Площадь, мкм.^2')\n",
        "plt.grid(False);"
      ],
      "metadata": {
        "id": "lPHCxhAvCNf1",
        "colab": {
          "base_uri": "https://localhost:8080/",
          "height": 241
        },
        "outputId": "06131977-0976-4e4f-d482-beae50267093"
      },
      "execution_count": 18,
      "outputs": [
        {
          "output_type": "display_data",
          "data": {
            "text/plain": [
              "<Figure size 864x216 with 2 Axes>"
            ],
            "image/png": "[encoded data removed]"
          },
          "metadata": {
            "needs_background": "light"
          }
        }
      ]
    }
  ]
}