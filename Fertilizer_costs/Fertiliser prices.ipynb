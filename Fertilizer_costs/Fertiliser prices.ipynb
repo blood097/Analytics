{
 "cells": [
  {
   "cell_type": "code",
   "execution_count": 1,
   "id": "7879d79f-c634-410b-bb70-36e368fe01da",
   "metadata": {},
   "outputs": [],
   "source": [
    "import pandas as pd\n",
    "import numpy as np \n",
    "import altair as alt "
   ]
  },
  {
   "cell_type": "markdown",
   "id": "6d7467d2-7840-428c-ab8f-033027d4e58f",
   "metadata": {},
   "source": [
    "---"
   ]
  },
  {
   "cell_type": "markdown",
   "id": "0c5fe0ae-f6a5-4e86-88f6-776ed68ac5d5",
   "metadata": {
    "jp-MarkdownHeadingCollapsed": true
   },
   "source": [
    "## Producer Price: Nitrogenous Fertilizer Manufacturing in USA"
   ]
  },
  {
   "cell_type": "markdown",
   "id": "990e8f8e-96e8-4f68-87c7-e22c4ff31c47",
   "metadata": {},
   "source": [
    "**Data**\n",
    "<br>U.S. Bureau of Labor Statistics, Producer Price Index by Industry: Nitrogenous Fertilizer Manufacturing [PCU325311325311], retrieved from FRED, Federal Reserve Bank of St. Louis; https://fred.stlouisfed.org/series/PCU325311325311, February 25, 2025."
   ]
  },
  {
   "cell_type": "code",
   "execution_count": 2,
   "id": "994e7608-d058-4de7-968f-c3f09782d6df",
   "metadata": {},
   "outputs": [
    {
     "name": "stdout",
     "output_type": "stream",
     "text": [
      "<class 'pandas.core.frame.DataFrame'>\n",
      "Index: 556 entries, 0 to 577\n",
      "Data columns (total 2 columns):\n",
      " #   Column  Non-Null Count  Dtype         \n",
      "---  ------  --------------  -----         \n",
      " 0   Date    556 non-null    datetime64[ns]\n",
      " 1   Change  556 non-null    float64       \n",
      "dtypes: datetime64[ns](1), float64(1)\n",
      "memory usage: 13.0 KB\n"
     ]
    }
   ],
   "source": [
    "df = pd.read_csv('PCU325311325311_PC1.csv')\n",
    "df['observation_date'] = pd.to_datetime(df['observation_date'])\n",
    "df = df.dropna()\n",
    "df = df.rename(columns={\"observation_date\": \"Date\", \"PCU325311325311_PC1\": \"Change\"})\n",
    "df.info()"
   ]
  },
  {
   "cell_type": "code",
   "execution_count": 3,
   "id": "97a730bc-1664-43cd-9183-8fbd9d08f3fd",
   "metadata": {},
   "outputs": [
    {
     "data": {
      "text/html": [
       "<div>\n",
       "<style scoped>\n",
       "    .dataframe tbody tr th:only-of-type {\n",
       "        vertical-align: middle;\n",
       "    }\n",
       "\n",
       "    .dataframe tbody tr th {\n",
       "        vertical-align: top;\n",
       "    }\n",
       "\n",
       "    .dataframe thead th {\n",
       "        text-align: right;\n",
       "    }\n",
       "</style>\n",
       "<table border=\"1\" class=\"dataframe\">\n",
       "  <thead>\n",
       "    <tr style=\"text-align: right;\">\n",
       "      <th></th>\n",
       "      <th>Date</th>\n",
       "      <th>Change</th>\n",
       "    </tr>\n",
       "  </thead>\n",
       "  <tbody>\n",
       "    <tr>\n",
       "      <th>0</th>\n",
       "      <td>2000-01-01</td>\n",
       "      <td>5.60201</td>\n",
       "    </tr>\n",
       "    <tr>\n",
       "      <th>1</th>\n",
       "      <td>2000-02-01</td>\n",
       "      <td>9.18964</td>\n",
       "    </tr>\n",
       "    <tr>\n",
       "      <th>2</th>\n",
       "      <td>2000-03-01</td>\n",
       "      <td>10.49587</td>\n",
       "    </tr>\n",
       "    <tr>\n",
       "      <th>3</th>\n",
       "      <td>2000-04-01</td>\n",
       "      <td>10.92851</td>\n",
       "    </tr>\n",
       "    <tr>\n",
       "      <th>4</th>\n",
       "      <td>2000-05-01</td>\n",
       "      <td>13.28848</td>\n",
       "    </tr>\n",
       "  </tbody>\n",
       "</table>\n",
       "</div>"
      ],
      "text/plain": [
       "        Date    Change\n",
       "0 2000-01-01   5.60201\n",
       "1 2000-02-01   9.18964\n",
       "2 2000-03-01  10.49587\n",
       "3 2000-04-01  10.92851\n",
       "4 2000-05-01  13.28848"
      ]
     },
     "execution_count": 3,
     "metadata": {},
     "output_type": "execute_result"
    }
   ],
   "source": [
    "df = df.loc[df['Date'] >= pd.Timestamp('2000-01-01 00:00:00')].reset_index(drop=True)\n",
    "df.head()"
   ]
  },
  {
   "cell_type": "code",
   "execution_count": 4,
   "id": "489bb6ec-8422-446a-8e59-5ff2178a9cf6",
   "metadata": {},
   "outputs": [
    {
     "data": {
      "text/html": [
       "\n",
       "<style>\n",
       "  #altair-viz-fad2ac79f2014783a66a0bea6056a2ca.vega-embed {\n",
       "    width: 100%;\n",
       "    display: flex;\n",
       "  }\n",
       "\n",
       "  #altair-viz-fad2ac79f2014783a66a0bea6056a2ca.vega-embed details,\n",
       "  #altair-viz-fad2ac79f2014783a66a0bea6056a2ca.vega-embed details summary {\n",
       "    position: relative;\n",
       "  }\n",
       "</style>\n",
       "<div id=\"altair-viz-fad2ac79f2014783a66a0bea6056a2ca\"></div>\n",
       "<script type=\"text/javascript\">\n",
       "  var VEGA_DEBUG = (typeof VEGA_DEBUG == \"undefined\") ? {} : VEGA_DEBUG;\n",
       "  (function(spec, embedOpt){\n",
       "    let outputDiv = document.currentScript.previousElementSibling;\n",
       "    if (outputDiv.id !== \"altair-viz-fad2ac79f2014783a66a0bea6056a2ca\") {\n",
       "      outputDiv = document.getElementById(\"altair-viz-fad2ac79f2014783a66a0bea6056a2ca\");\n",
       "    }\n",
       "\n",
       "    const paths = {\n",
       "      \"vega\": \"https://cdn.jsdelivr.net/npm/vega@5?noext\",\n",
       "      \"vega-lib\": \"https://cdn.jsdelivr.net/npm/vega-lib?noext\",\n",
       "      \"vega-lite\": \"https://cdn.jsdelivr.net/npm/vega-lite@5.20.1?noext\",\n",
       "      \"vega-embed\": \"https://cdn.jsdelivr.net/npm/vega-embed@6?noext\",\n",
       "    };\n",
       "\n",
       "    function maybeLoadScript(lib, version) {\n",
       "      var key = `${lib.replace(\"-\", \"\")}_version`;\n",
       "      return (VEGA_DEBUG[key] == version) ?\n",
       "        Promise.resolve(paths[lib]) :\n",
       "        new Promise(function(resolve, reject) {\n",
       "          var s = document.createElement('script');\n",
       "          document.getElementsByTagName(\"head\")[0].appendChild(s);\n",
       "          s.async = true;\n",
       "          s.onload = () => {\n",
       "            VEGA_DEBUG[key] = version;\n",
       "            return resolve(paths[lib]);\n",
       "          };\n",
       "          s.onerror = () => reject(`Error loading script: ${paths[lib]}`);\n",
       "          s.src = paths[lib];\n",
       "        });\n",
       "    }\n",
       "\n",
       "    function showError(err) {\n",
       "      outputDiv.innerHTML = `<div class=\"error\" style=\"color:red;\">${err}</div>`;\n",
       "      throw err;\n",
       "    }\n",
       "\n",
       "    function displayChart(vegaEmbed) {\n",
       "      vegaEmbed(outputDiv, spec, embedOpt)\n",
       "        .catch(err => showError(`Javascript Error: ${err.message}<br>This usually means there's a typo in your chart specification. See the javascript console for the full traceback.`));\n",
       "    }\n",
       "\n",
       "    if(typeof define === \"function\" && define.amd) {\n",
       "      requirejs.config({paths});\n",
       "      let deps = [\"vega-embed\"];\n",
       "      require(deps, displayChart, err => showError(`Error loading script: ${err.message}`));\n",
       "    } else {\n",
       "      maybeLoadScript(\"vega\", \"5\")\n",
       "        .then(() => maybeLoadScript(\"vega-lite\", \"5.20.1\"))\n",
       "        .then(() => maybeLoadScript(\"vega-embed\", \"6\"))\n",
       "        .catch(showError)\n",
       "        .then(() => displayChart(vegaEmbed));\n",
       "    }\n",
       "  })({\"config\": {\"view\": {\"continuousWidth\": 300, \"continuousHeight\": 300}}, \"data\": {\"name\": \"data-295a7c16524b34a8ea3aedb3be95eef5\"}, \"mark\": {\"type\": \"bar\"}, \"encoding\": {\"color\": {\"condition\": [{\"test\": \"(datum.Change > 0)\", \"value\": \"#D35400\"}], \"value\": \"steelblue\"}, \"x\": {\"field\": \"Date\", \"title\": \"\", \"type\": \"temporal\"}, \"y\": {\"field\": \"Change\", \"title\": \"Change from year ago, %\", \"type\": \"quantitative\"}}, \"title\": {\"text\": \"USA Producer Price: Nitrogenous Fertilizer Manufacturing\", \"anchor\": \"middle\"}, \"$schema\": \"https://vega.github.io/schema/vega-lite/v5.20.1.json\", \"datasets\": {\"data-295a7c16524b34a8ea3aedb3be95eef5\": [{\"Date\": \"2000-01-01T00:00:00\", \"Change\": 5.60201}, {\"Date\": \"2000-02-01T00:00:00\", \"Change\": 9.18964}, {\"Date\": \"2000-03-01T00:00:00\", \"Change\": 10.49587}, {\"Date\": \"2000-04-01T00:00:00\", \"Change\": 10.92851}, {\"Date\": \"2000-05-01T00:00:00\", \"Change\": 13.28848}, {\"Date\": \"2000-06-01T00:00:00\", \"Change\": 18.11966}, {\"Date\": \"2000-07-01T00:00:00\", \"Change\": 29.69163}, {\"Date\": \"2000-08-01T00:00:00\", \"Change\": 31.03448}, {\"Date\": \"2000-09-01T00:00:00\", \"Change\": 32.6087}, {\"Date\": \"2000-10-01T00:00:00\", \"Change\": 30.73737}, {\"Date\": \"2000-11-01T00:00:00\", \"Change\": 34.10788}, {\"Date\": \"2000-12-01T00:00:00\", \"Change\": 39.37908}, {\"Date\": \"2001-01-01T00:00:00\", \"Change\": 65.55819}, {\"Date\": \"2001-02-01T00:00:00\", \"Change\": 67.25325}, {\"Date\": \"2001-03-01T00:00:00\", \"Change\": 62.15408}, {\"Date\": \"2001-04-01T00:00:00\", \"Change\": 50.22222}, {\"Date\": \"2001-05-01T00:00:00\", \"Change\": 38.82702}, {\"Date\": \"2001-06-01T00:00:00\", \"Change\": 23.80608}, {\"Date\": \"2001-07-01T00:00:00\", \"Change\": 8.42391}, {\"Date\": \"2001-08-01T00:00:00\", \"Change\": 0.74224}, {\"Date\": \"2001-09-01T00:00:00\", \"Change\": -4.98361}, {\"Date\": \"2001-10-01T00:00:00\", \"Change\": -12.80101}, {\"Date\": \"2001-11-01T00:00:00\", \"Change\": -17.7599}, {\"Date\": \"2001-12-01T00:00:00\", \"Change\": -23.21219}, {\"Date\": \"2002-01-01T00:00:00\", \"Change\": -37.68532}, {\"Date\": \"2002-02-01T00:00:00\", \"Change\": -40.94236}, {\"Date\": \"2002-03-01T00:00:00\", \"Change\": -41.32841}, {\"Date\": \"2002-04-01T00:00:00\", \"Change\": -37.82051}, {\"Date\": \"2002-05-01T00:00:00\", \"Change\": -31.5508}, {\"Date\": \"2002-06-01T00:00:00\", \"Change\": -22.85213}, {\"Date\": \"2002-07-01T00:00:00\", \"Change\": -17.60652}, {\"Date\": \"2002-08-01T00:00:00\", \"Change\": -11.58741}, {\"Date\": \"2002-09-01T00:00:00\", \"Change\": -9.86888}, {\"Date\": \"2002-10-01T00:00:00\", \"Change\": -2.97965}, {\"Date\": \"2002-11-01T00:00:00\", \"Change\": 3.76223}, {\"Date\": \"2002-12-01T00:00:00\", \"Change\": 8.0916}, {\"Date\": \"2003-01-01T00:00:00\", \"Change\": 15.80967}, {\"Date\": \"2003-02-01T00:00:00\", \"Change\": 26.72347}, {\"Date\": \"2003-03-01T00:00:00\", \"Change\": 43.86792}, {\"Date\": \"2003-04-01T00:00:00\", \"Change\": 49.64314}, {\"Date\": \"2003-05-01T00:00:00\", \"Change\": 43.82813}, {\"Date\": \"2003-06-01T00:00:00\", \"Change\": 34.54545}, {\"Date\": \"2003-07-01T00:00:00\", \"Change\": 32.1673}, {\"Date\": \"2003-08-01T00:00:00\", \"Change\": 33.18182}, {\"Date\": \"2003-09-01T00:00:00\", \"Change\": 36.60031}, {\"Date\": \"2003-10-01T00:00:00\", \"Change\": 35.35581}, {\"Date\": \"2003-11-01T00:00:00\", \"Change\": 31.9797}, {\"Date\": \"2003-12-01T00:00:00\", \"Change\": 31.07345}, {\"Date\": \"2004-01-01T00:00:00\", \"Change\": 27.63419}, {\"Date\": \"2004-02-01T00:00:00\", \"Change\": 21.27139}, {\"Date\": \"2004-03-01T00:00:00\", \"Change\": 8.9071}, {\"Date\": \"2004-04-01T00:00:00\", \"Change\": 6.09433}, {\"Date\": \"2004-05-01T00:00:00\", \"Change\": 5.70342}, {\"Date\": \"2004-06-01T00:00:00\", \"Change\": 11.31757}, {\"Date\": \"2004-07-01T00:00:00\", \"Change\": 15.18987}, {\"Date\": \"2004-08-01T00:00:00\", \"Change\": 17.17861}, {\"Date\": \"2004-09-01T00:00:00\", \"Change\": 15.63901}, {\"Date\": \"2004-10-01T00:00:00\", \"Change\": 18.42833}, {\"Date\": \"2004-11-01T00:00:00\", \"Change\": 19.50549}, {\"Date\": \"2004-12-01T00:00:00\", \"Change\": 18.58836}, {\"Date\": \"2005-01-01T00:00:00\", \"Change\": 14.33022}, {\"Date\": \"2005-02-01T00:00:00\", \"Change\": 10.68548}, {\"Date\": \"2005-03-01T00:00:00\", \"Change\": 9.78424}, {\"Date\": \"2005-04-01T00:00:00\", \"Change\": 13.18681}, {\"Date\": \"2005-05-01T00:00:00\", \"Change\": 18.39671}, {\"Date\": \"2005-06-01T00:00:00\", \"Change\": 17.75417}, {\"Date\": \"2005-07-01T00:00:00\", \"Change\": 14.08591}, {\"Date\": \"2005-08-01T00:00:00\", \"Change\": 10.43689}, {\"Date\": \"2005-09-01T00:00:00\", \"Change\": 14.39651}, {\"Date\": \"2005-10-01T00:00:00\", \"Change\": 19.62617}, {\"Date\": \"2005-11-01T00:00:00\", \"Change\": 22.71264}, {\"Date\": \"2005-12-01T00:00:00\", \"Change\": 26.89687}, {\"Date\": \"2006-01-01T00:00:00\", \"Change\": 29.29155}, {\"Date\": \"2006-02-01T00:00:00\", \"Change\": 24.18033}, {\"Date\": \"2006-03-01T00:00:00\", \"Change\": 20.93236}, {\"Date\": \"2006-04-01T00:00:00\", \"Change\": 13.15093}, {\"Date\": \"2006-05-01T00:00:00\", \"Change\": 9.11458}, {\"Date\": \"2006-06-01T00:00:00\", \"Change\": 4.25258}, {\"Date\": \"2006-07-01T00:00:00\", \"Change\": 1.5324}, {\"Date\": \"2006-08-01T00:00:00\", \"Change\": 0.35165}, {\"Date\": \"2006-09-01T00:00:00\", \"Change\": -4.57627}, {\"Date\": \"2006-10-01T00:00:00\", \"Change\": -10.85938}, {\"Date\": \"2006-11-01T00:00:00\", \"Change\": -14.38741}, {\"Date\": \"2006-12-01T00:00:00\", \"Change\": -16.57716}, {\"Date\": \"2007-01-01T00:00:00\", \"Change\": -14.12013}, {\"Date\": \"2007-02-01T00:00:00\", \"Change\": -5.79391}, {\"Date\": \"2007-03-01T00:00:00\", \"Change\": 2.83447}, {\"Date\": \"2007-04-01T00:00:00\", \"Change\": 10.53042}, {\"Date\": \"2007-05-01T00:00:00\", \"Change\": 12.13206}, {\"Date\": \"2007-06-01T00:00:00\", \"Change\": 16.64607}, {\"Date\": \"2007-07-01T00:00:00\", \"Change\": 21.60414}, {\"Date\": \"2007-08-01T00:00:00\", \"Change\": 19.92992}, {\"Date\": \"2007-09-01T00:00:00\", \"Change\": 21.04796}, {\"Date\": \"2007-10-01T00:00:00\", \"Change\": 24.97809}, {\"Date\": \"2007-11-01T00:00:00\", \"Change\": 27.57112}, {\"Date\": \"2007-12-01T00:00:00\", \"Change\": 34.97854}, {\"Date\": \"2008-01-01T00:00:00\", \"Change\": 38.48671}, {\"Date\": \"2008-02-01T00:00:00\", \"Change\": 35.6559}, {\"Date\": \"2008-03-01T00:00:00\", \"Change\": 35.42815}, {\"Date\": \"2008-04-01T00:00:00\", \"Change\": 34.72124}, {\"Date\": \"2008-05-01T00:00:00\", \"Change\": 45.65449}, {\"Date\": \"2008-06-01T00:00:00\", \"Change\": 54.68032}, {\"Date\": \"2008-07-01T00:00:00\", \"Change\": 68.01418}, {\"Date\": \"2008-08-01T00:00:00\", \"Change\": 79.65668}, {\"Date\": \"2008-09-01T00:00:00\", \"Change\": 86.427}, {\"Date\": \"2008-10-01T00:00:00\", \"Change\": 74.7195}, {\"Date\": \"2008-11-01T00:00:00\", \"Change\": 55.81475}, {\"Date\": \"2008-12-01T00:00:00\", \"Change\": 30.71542}, {\"Date\": \"2009-01-01T00:00:00\", \"Change\": 6.02481}, {\"Date\": \"2009-02-01T00:00:00\", \"Change\": -8.46485}, {\"Date\": \"2009-03-01T00:00:00\", \"Change\": -20.35278}, {\"Date\": \"2009-04-01T00:00:00\", \"Change\": -19.17234}, {\"Date\": \"2009-05-01T00:00:00\", \"Change\": -28.71408}, {\"Date\": \"2009-06-01T00:00:00\", \"Change\": -39.52957}, {\"Date\": \"2009-07-01T00:00:00\", \"Change\": -47.23512}, {\"Date\": \"2009-08-01T00:00:00\", \"Change\": -49.94918}, {\"Date\": \"2009-09-01T00:00:00\", \"Change\": -53.75836}, {\"Date\": \"2009-10-01T00:00:00\", \"Change\": -51.11379}, {\"Date\": \"2009-11-01T00:00:00\", \"Change\": -45.6627}, {\"Date\": \"2009-12-01T00:00:00\", \"Change\": -40.25784}, {\"Date\": \"2010-01-01T00:00:00\", \"Change\": -28.74652}, {\"Date\": \"2010-02-01T00:00:00\", \"Change\": -15.54859}, {\"Date\": \"2010-03-01T00:00:00\", \"Change\": -6.37138}, {\"Date\": \"2010-04-01T00:00:00\", \"Change\": -6.05962}, {\"Date\": \"2010-05-01T00:00:00\", \"Change\": -0.71746}, {\"Date\": \"2010-06-01T00:00:00\", \"Change\": 8.00604}, {\"Date\": \"2010-07-01T00:00:00\", \"Change\": 8.76}, {\"Date\": \"2010-08-01T00:00:00\", \"Change\": 13.48497}, {\"Date\": \"2010-09-01T00:00:00\", \"Change\": 23.95745}, {\"Date\": \"2010-10-01T00:00:00\", \"Change\": 27.29885}, {\"Date\": \"2010-11-01T00:00:00\", \"Change\": 27.22853}, {\"Date\": \"2010-12-01T00:00:00\", \"Change\": 32.73616}, {\"Date\": \"2011-01-01T00:00:00\", \"Change\": 33.38546}, {\"Date\": \"2011-02-01T00:00:00\", \"Change\": 32.59094}, {\"Date\": \"2011-03-01T00:00:00\", \"Change\": 35.98981}, {\"Date\": \"2011-04-01T00:00:00\", \"Change\": 33.32184}, {\"Date\": \"2011-05-01T00:00:00\", \"Change\": 36.16655}, {\"Date\": \"2011-06-01T00:00:00\", \"Change\": 41.74825}, {\"Date\": \"2011-07-01T00:00:00\", \"Change\": 52.04119}, {\"Date\": \"2011-08-01T00:00:00\", \"Change\": 47.88833}, {\"Date\": \"2011-09-01T00:00:00\", \"Change\": 43.83797}, {\"Date\": \"2011-10-01T00:00:00\", \"Change\": 38.92293}, {\"Date\": \"2011-11-01T00:00:00\", \"Change\": 40.47771}, {\"Date\": \"2011-12-01T00:00:00\", \"Change\": 36.04294}, {\"Date\": \"2012-01-01T00:00:00\", \"Change\": 26.20164}, {\"Date\": \"2012-02-01T00:00:00\", \"Change\": 14.89362}, {\"Date\": \"2012-03-01T00:00:00\", \"Change\": 8.58978}, {\"Date\": \"2012-04-01T00:00:00\", \"Change\": 10.1423}, {\"Date\": \"2012-05-01T00:00:00\", \"Change\": 14.10159}, {\"Date\": \"2012-06-01T00:00:00\", \"Change\": 12.45683}, {\"Date\": \"2012-07-01T00:00:00\", \"Change\": 9.16788}, {\"Date\": \"2012-08-01T00:00:00\", \"Change\": 4.93708}, {\"Date\": \"2012-09-01T00:00:00\", \"Change\": 3.24582}, {\"Date\": \"2012-10-01T00:00:00\", \"Change\": 1.23027}, {\"Date\": \"2012-11-01T00:00:00\", \"Change\": -1.63228}, {\"Date\": \"2012-12-01T00:00:00\", \"Change\": -1.30778}, {\"Date\": \"2013-01-01T00:00:00\", \"Change\": 2.78681}, {\"Date\": \"2013-02-01T00:00:00\", \"Change\": 9.33236}, {\"Date\": \"2013-03-01T00:00:00\", \"Change\": 9.48743}, {\"Date\": \"2013-04-01T00:00:00\", \"Change\": 8.57411}, {\"Date\": \"2013-05-01T00:00:00\", \"Change\": 4.18605}, {\"Date\": \"2013-06-01T00:00:00\", \"Change\": -1.22834}, {\"Date\": \"2013-07-01T00:00:00\", \"Change\": -5.09639}, {\"Date\": \"2013-08-01T00:00:00\", \"Change\": -11.3238}, {\"Date\": \"2013-09-01T00:00:00\", \"Change\": -13.31484}, {\"Date\": \"2013-10-01T00:00:00\", \"Change\": -15.29466}, {\"Date\": \"2013-11-01T00:00:00\", \"Change\": -14.91127}, {\"Date\": \"2013-12-01T00:00:00\", \"Change\": -16.56386}, {\"Date\": \"2014-01-01T00:00:00\", \"Change\": -17.55535}, {\"Date\": \"2014-02-01T00:00:00\", \"Change\": -14.86517}, {\"Date\": \"2014-03-01T00:00:00\", \"Change\": -12.3115}, {\"Date\": \"2014-04-01T00:00:00\", \"Change\": -13.24102}, {\"Date\": \"2014-05-01T00:00:00\", \"Change\": -10.71429}, {\"Date\": \"2014-06-01T00:00:00\", \"Change\": -10.32645}, {\"Date\": \"2014-07-01T00:00:00\", \"Change\": -8.96568}, {\"Date\": \"2014-08-01T00:00:00\", \"Change\": -1.06632}, {\"Date\": \"2014-09-01T00:00:00\", \"Change\": 0.37333}, {\"Date\": \"2014-10-01T00:00:00\", \"Change\": 0.67677}, {\"Date\": \"2014-11-01T00:00:00\", \"Change\": 1.11051}, {\"Date\": \"2014-12-01T00:00:00\", \"Change\": 3.17634}, {\"Date\": \"2015-01-01T00:00:00\", \"Change\": 4.11072}, {\"Date\": \"2015-02-01T00:00:00\", \"Change\": -0.94241}, {\"Date\": \"2015-03-01T00:00:00\", \"Change\": -4.72279}, {\"Date\": \"2015-04-01T00:00:00\", \"Change\": -7.08229}, {\"Date\": \"2015-05-01T00:00:00\", \"Change\": -10.38095}, {\"Date\": \"2015-06-01T00:00:00\", \"Change\": -6.63695}, {\"Date\": \"2015-07-01T00:00:00\", \"Change\": -6.84791}, {\"Date\": \"2015-08-01T00:00:00\", \"Change\": -8.43849}, {\"Date\": \"2015-09-01T00:00:00\", \"Change\": -4.35707}, {\"Date\": \"2015-10-01T00:00:00\", \"Change\": -6.61468}, {\"Date\": \"2015-11-01T00:00:00\", \"Change\": -7.76855}, {\"Date\": \"2015-12-01T00:00:00\", \"Change\": -6.28981}, {\"Date\": \"2016-01-01T00:00:00\", \"Change\": -11.02922}, {\"Date\": \"2016-02-01T00:00:00\", \"Change\": -14.58774}, {\"Date\": \"2016-03-01T00:00:00\", \"Change\": -15.32866}, {\"Date\": \"2016-04-01T00:00:00\", \"Change\": -14.25121}, {\"Date\": \"2016-05-01T00:00:00\", \"Change\": -14.82465}, {\"Date\": \"2016-06-01T00:00:00\", \"Change\": -17.24138}, {\"Date\": \"2016-07-01T00:00:00\", \"Change\": -20.12665}, {\"Date\": \"2016-08-01T00:00:00\", \"Change\": -22.39449}, {\"Date\": \"2016-09-01T00:00:00\", \"Change\": -26.75}, {\"Date\": \"2016-10-01T00:00:00\", \"Change\": -24.21538}, {\"Date\": \"2016-11-01T00:00:00\", \"Change\": -22.88702}, {\"Date\": \"2016-12-01T00:00:00\", \"Change\": -24.29907}, {\"Date\": \"2017-01-01T00:00:00\", \"Change\": -19.94083}, {\"Date\": \"2017-02-01T00:00:00\", \"Change\": -10.89109}, {\"Date\": \"2017-03-01T00:00:00\", \"Change\": -5.40885}, {\"Date\": \"2017-04-01T00:00:00\", \"Change\": -4.69484}, {\"Date\": \"2017-05-01T00:00:00\", \"Change\": -6.48784}, {\"Date\": \"2017-06-01T00:00:00\", \"Change\": -4.90385}, {\"Date\": \"2017-07-01T00:00:00\", \"Change\": -2.65426}, {\"Date\": \"2017-08-01T00:00:00\", \"Change\": -2.40474}, {\"Date\": \"2017-09-01T00:00:00\", \"Change\": -1.93402}, {\"Date\": \"2017-10-01T00:00:00\", \"Change\": 0.41793}, {\"Date\": \"2017-11-01T00:00:00\", \"Change\": 4.97175}, {\"Date\": \"2017-12-01T00:00:00\", \"Change\": 8.82903}, {\"Date\": \"2018-01-01T00:00:00\", \"Change\": 7.94531}, {\"Date\": \"2018-02-01T00:00:00\", \"Change\": 6.84028}, {\"Date\": \"2018-03-01T00:00:00\", \"Change\": 3.43088}, {\"Date\": \"2018-04-01T00:00:00\", \"Change\": 1.08374}, {\"Date\": \"2018-05-01T00:00:00\", \"Change\": 1.83456}, {\"Date\": \"2018-06-01T00:00:00\", \"Change\": 1.58409}, {\"Date\": \"2018-07-01T00:00:00\", \"Change\": 4.07224}, {\"Date\": \"2018-08-01T00:00:00\", \"Change\": 11.86505}, {\"Date\": \"2018-09-01T00:00:00\", \"Change\": 15.39056}, {\"Date\": \"2018-10-01T00:00:00\", \"Change\": 17.32879}, {\"Date\": \"2018-11-01T00:00:00\", \"Change\": 14.31647}, {\"Date\": \"2018-12-01T00:00:00\", \"Change\": 10.65658}, {\"Date\": \"2019-01-01T00:00:00\", \"Change\": 10.20199}, {\"Date\": \"2019-02-01T00:00:00\", \"Change\": 8.0598}, {\"Date\": \"2019-03-01T00:00:00\", \"Change\": 7.05691}, {\"Date\": \"2019-04-01T00:00:00\", \"Change\": 6.07537}, {\"Date\": \"2019-05-01T00:00:00\", \"Change\": 6.6492}, {\"Date\": \"2019-06-01T00:00:00\", \"Change\": 5.57399}, {\"Date\": \"2019-07-01T00:00:00\", \"Change\": 6.22661}, {\"Date\": \"2019-08-01T00:00:00\", \"Change\": 1.796}, {\"Date\": \"2019-09-01T00:00:00\", \"Change\": -0.36863}, {\"Date\": \"2019-10-01T00:00:00\", \"Change\": -3.57949}, {\"Date\": \"2019-11-01T00:00:00\", \"Change\": -7.56434}, {\"Date\": \"2019-12-01T00:00:00\", \"Change\": -13.82417}, {\"Date\": \"2020-01-01T00:00:00\", \"Change\": -12.76794}, {\"Date\": \"2020-02-01T00:00:00\", \"Change\": -15.81955}, {\"Date\": \"2020-03-01T00:00:00\", \"Change\": -14.18591}, {\"Date\": \"2020-04-01T00:00:00\", \"Change\": -9.70904}, {\"Date\": \"2020-05-01T00:00:00\", \"Change\": -9.64373}, {\"Date\": \"2020-06-01T00:00:00\", \"Change\": -10.33941}, {\"Date\": \"2020-07-01T00:00:00\", \"Change\": -10.02562}, {\"Date\": \"2020-08-01T00:00:00\", \"Change\": -7.49001}, {\"Date\": \"2020-09-01T00:00:00\", \"Change\": -5.58359}, {\"Date\": \"2020-10-01T00:00:00\", \"Change\": -4.14716}, {\"Date\": \"2020-11-01T00:00:00\", \"Change\": -2.88625}, {\"Date\": \"2020-12-01T00:00:00\", \"Change\": 5.29921}, {\"Date\": \"2021-01-01T00:00:00\", \"Change\": 9.50855}, {\"Date\": \"2021-02-01T00:00:00\", \"Change\": 16.22008}, {\"Date\": \"2021-03-01T00:00:00\", \"Change\": 18.15929}, {\"Date\": \"2021-04-01T00:00:00\", \"Change\": 19.64043}, {\"Date\": \"2021-05-01T00:00:00\", \"Change\": 24.57512}, {\"Date\": \"2021-06-01T00:00:00\", \"Change\": 42.79706}, {\"Date\": \"2021-07-01T00:00:00\", \"Change\": 49.19188}, {\"Date\": \"2021-08-01T00:00:00\", \"Change\": 48.1407}, {\"Date\": \"2021-09-01T00:00:00\", \"Change\": 50.0969}, {\"Date\": \"2021-10-01T00:00:00\", \"Change\": 68.75017}, {\"Date\": \"2021-11-01T00:00:00\", \"Change\": 88.58531}, {\"Date\": \"2021-12-01T00:00:00\", \"Change\": 110.86546}, {\"Date\": \"2022-01-01T00:00:00\", \"Change\": 109.10146}, {\"Date\": \"2022-02-01T00:00:00\", \"Change\": 108.20996}, {\"Date\": \"2022-03-01T00:00:00\", \"Change\": 114.61204}, {\"Date\": \"2022-04-01T00:00:00\", \"Change\": 119.46924}, {\"Date\": \"2022-05-01T00:00:00\", \"Change\": 109.40928}, {\"Date\": \"2022-06-01T00:00:00\", \"Change\": 78.28694}, {\"Date\": \"2022-07-01T00:00:00\", \"Change\": 54.2548}, {\"Date\": \"2022-08-01T00:00:00\", \"Change\": 54.42221}, {\"Date\": \"2022-09-01T00:00:00\", \"Change\": 48.52108}, {\"Date\": \"2022-10-01T00:00:00\", \"Change\": 35.98911}, {\"Date\": \"2022-11-01T00:00:00\", \"Change\": 25.45434}, {\"Date\": \"2022-12-01T00:00:00\", \"Change\": 6.16133}, {\"Date\": \"2023-01-01T00:00:00\", \"Change\": -5.79125}, {\"Date\": \"2023-02-01T00:00:00\", \"Change\": -19.73212}, {\"Date\": \"2023-03-01T00:00:00\", \"Change\": -31.06906}, {\"Date\": \"2023-04-01T00:00:00\", \"Change\": -40.42177}, {\"Date\": \"2023-05-01T00:00:00\", \"Change\": -44.00633}, {\"Date\": \"2023-06-01T00:00:00\", \"Change\": -48.21909}, {\"Date\": \"2023-07-01T00:00:00\", \"Change\": -42.53981}, {\"Date\": \"2023-08-01T00:00:00\", \"Change\": -42.34832}, {\"Date\": \"2023-09-01T00:00:00\", \"Change\": -41.64621}, {\"Date\": \"2023-10-01T00:00:00\", \"Change\": -40.19021}, {\"Date\": \"2023-11-01T00:00:00\", \"Change\": -40.49757}, {\"Date\": \"2023-12-01T00:00:00\", \"Change\": -35.15373}, {\"Date\": \"2024-01-01T00:00:00\", \"Change\": -32.24713}, {\"Date\": \"2024-02-01T00:00:00\", \"Change\": -28.57834}, {\"Date\": \"2024-03-01T00:00:00\", \"Change\": -18.46704}, {\"Date\": \"2024-04-01T00:00:00\", \"Change\": -11.56218}, {\"Date\": \"2024-05-01T00:00:00\", \"Change\": -6.29958}, {\"Date\": \"2024-06-01T00:00:00\", \"Change\": 2.65111}, {\"Date\": \"2024-07-01T00:00:00\", \"Change\": 2.82217}, {\"Date\": \"2024-08-01T00:00:00\", \"Change\": 2.54891}, {\"Date\": \"2024-09-01T00:00:00\", \"Change\": 2.27331}, {\"Date\": \"2024-10-01T00:00:00\", \"Change\": -1.72409}, {\"Date\": \"2024-11-01T00:00:00\", \"Change\": -4.50401}, {\"Date\": \"2024-12-01T00:00:00\", \"Change\": -9.06297}, {\"Date\": \"2025-01-01T00:00:00\", \"Change\": -6.34751}]}}, {\"mode\": \"vega-lite\"});\n",
       "</script>"
      ],
      "text/plain": [
       "alt.Chart(...)"
      ]
     },
     "execution_count": 4,
     "metadata": {},
     "output_type": "execute_result"
    }
   ],
   "source": [
    "threshold = 0\n",
    "predicate = alt.datum.Change > threshold\n",
    "color = alt.when(predicate).then(alt.value(\"#D35400\")).otherwise(alt.value(\"steelblue\"))\n",
    "\n",
    "bars = alt.Chart(df, title=alt.TitleParams('USA Producer Price: Nitrogenous Fertilizer Manufacturing', anchor='middle')).mark_bar().encode(\n",
    "    alt.X(\"Date:T\", title=''),\n",
    "    alt.Y(\"Change:Q\", title='Change from year ago, %'),\n",
    "    color=color,\n",
    ")\n",
    "\n",
    "(bars)"
   ]
  },
  {
   "cell_type": "markdown",
   "id": "2a6228a2-fd68-4833-82cc-156833d9d5cb",
   "metadata": {},
   "source": [
    "---"
   ]
  },
  {
   "cell_type": "markdown",
   "id": "749ef421-7ca7-4a20-b6ef-becaac2273cc",
   "metadata": {},
   "source": [
    "## Fertiliser Production in EU"
   ]
  },
  {
   "cell_type": "markdown",
   "id": "c30fa81b-0b9b-4868-9764-ae32e04c5819",
   "metadata": {},
   "source": [
    "**Data**\n",
    "<br>Fertiliser production, retrieved from Directorate-General for Agriculture and Rural Development; https://agridata.ec.europa.eu/extensions/DashboardFertiliser/FertiliserProduction.html; Access: February 25, 2025."
   ]
  },
  {
   "cell_type": "code",
   "execution_count": 5,
   "id": "eb76078d-2e83-4e9c-ac2b-12a921abed96",
   "metadata": {},
   "outputs": [
    {
     "name": "stdout",
     "output_type": "stream",
     "text": [
      "<class 'pandas.core.frame.DataFrame'>\n",
      "RangeIndex: 413 entries, 0 to 412\n",
      "Data columns (total 3 columns):\n",
      " #   Column        Non-Null Count  Dtype \n",
      "---  ------        --------------  ----- \n",
      " 0   Year          413 non-null    object\n",
      " 1   Member State  413 non-null    object\n",
      " 2   Quantity      413 non-null    int64 \n",
      "dtypes: int64(1), object(2)\n",
      "memory usage: 9.8+ KB\n"
     ]
    }
   ],
   "source": [
    "df1 = pd.read_excel('9d3ce135-600e-4531-96cf-3c1434101a26.xlsx')\n",
    "df1 = df1.dropna()\n",
    "df1['Year'] = df1['Year'].astype('str')\n",
    "df1.info()"
   ]
  },
  {
   "cell_type": "code",
   "execution_count": 6,
   "id": "4b5da972-b231-4379-a23f-4a939a6f0e94",
   "metadata": {},
   "outputs": [
    {
     "data": {
      "text/html": [
       "<div>\n",
       "<style scoped>\n",
       "    .dataframe tbody tr th:only-of-type {\n",
       "        vertical-align: middle;\n",
       "    }\n",
       "\n",
       "    .dataframe tbody tr th {\n",
       "        vertical-align: top;\n",
       "    }\n",
       "\n",
       "    .dataframe thead th {\n",
       "        text-align: right;\n",
       "    }\n",
       "</style>\n",
       "<table border=\"1\" class=\"dataframe\">\n",
       "  <thead>\n",
       "    <tr style=\"text-align: right;\">\n",
       "      <th></th>\n",
       "      <th>Year</th>\n",
       "      <th>Member State</th>\n",
       "      <th>Quantity</th>\n",
       "    </tr>\n",
       "  </thead>\n",
       "  <tbody>\n",
       "    <tr>\n",
       "      <th>0</th>\n",
       "      <td>2019</td>\n",
       "      <td>Austria</td>\n",
       "      <td>519693499</td>\n",
       "    </tr>\n",
       "    <tr>\n",
       "      <th>1</th>\n",
       "      <td>2019</td>\n",
       "      <td>Belgium</td>\n",
       "      <td>4631500519</td>\n",
       "    </tr>\n",
       "    <tr>\n",
       "      <th>2</th>\n",
       "      <td>2019</td>\n",
       "      <td>Bulgaria</td>\n",
       "      <td>2927608</td>\n",
       "    </tr>\n",
       "    <tr>\n",
       "      <th>3</th>\n",
       "      <td>2019</td>\n",
       "      <td>Croatia</td>\n",
       "      <td>1015104000</td>\n",
       "    </tr>\n",
       "    <tr>\n",
       "      <th>4</th>\n",
       "      <td>2019</td>\n",
       "      <td>Czechia</td>\n",
       "      <td>552875000</td>\n",
       "    </tr>\n",
       "  </tbody>\n",
       "</table>\n",
       "</div>"
      ],
      "text/plain": [
       "   Year Member State    Quantity\n",
       "0  2019      Austria   519693499\n",
       "1  2019      Belgium  4631500519\n",
       "2  2019     Bulgaria     2927608\n",
       "3  2019      Croatia  1015104000\n",
       "4  2019      Czechia   552875000"
      ]
     },
     "execution_count": 6,
     "metadata": {},
     "output_type": "execute_result"
    }
   ],
   "source": [
    "df1 = df1.loc[df1['Year'] >= '2019'].reset_index(drop=True)\n",
    "df1.head()"
   ]
  },
  {
   "cell_type": "code",
   "execution_count": 7,
   "id": "be83bf23-666b-44dc-be95-007ed2afc9a2",
   "metadata": {},
   "outputs": [
    {
     "data": {
      "text/html": [
       "\n",
       "<style>\n",
       "  #altair-viz-b70cf977dffd41a2b1d20555d3ee9ff3.vega-embed {\n",
       "    width: 100%;\n",
       "    display: flex;\n",
       "  }\n",
       "\n",
       "  #altair-viz-b70cf977dffd41a2b1d20555d3ee9ff3.vega-embed details,\n",
       "  #altair-viz-b70cf977dffd41a2b1d20555d3ee9ff3.vega-embed details summary {\n",
       "    position: relative;\n",
       "  }\n",
       "</style>\n",
       "<div id=\"altair-viz-b70cf977dffd41a2b1d20555d3ee9ff3\"></div>\n",
       "<script type=\"text/javascript\">\n",
       "  var VEGA_DEBUG = (typeof VEGA_DEBUG == \"undefined\") ? {} : VEGA_DEBUG;\n",
       "  (function(spec, embedOpt){\n",
       "    let outputDiv = document.currentScript.previousElementSibling;\n",
       "    if (outputDiv.id !== \"altair-viz-b70cf977dffd41a2b1d20555d3ee9ff3\") {\n",
       "      outputDiv = document.getElementById(\"altair-viz-b70cf977dffd41a2b1d20555d3ee9ff3\");\n",
       "    }\n",
       "\n",
       "    const paths = {\n",
       "      \"vega\": \"https://cdn.jsdelivr.net/npm/vega@5?noext\",\n",
       "      \"vega-lib\": \"https://cdn.jsdelivr.net/npm/vega-lib?noext\",\n",
       "      \"vega-lite\": \"https://cdn.jsdelivr.net/npm/vega-lite@5.20.1?noext\",\n",
       "      \"vega-embed\": \"https://cdn.jsdelivr.net/npm/vega-embed@6?noext\",\n",
       "    };\n",
       "\n",
       "    function maybeLoadScript(lib, version) {\n",
       "      var key = `${lib.replace(\"-\", \"\")}_version`;\n",
       "      return (VEGA_DEBUG[key] == version) ?\n",
       "        Promise.resolve(paths[lib]) :\n",
       "        new Promise(function(resolve, reject) {\n",
       "          var s = document.createElement('script');\n",
       "          document.getElementsByTagName(\"head\")[0].appendChild(s);\n",
       "          s.async = true;\n",
       "          s.onload = () => {\n",
       "            VEGA_DEBUG[key] = version;\n",
       "            return resolve(paths[lib]);\n",
       "          };\n",
       "          s.onerror = () => reject(`Error loading script: ${paths[lib]}`);\n",
       "          s.src = paths[lib];\n",
       "        });\n",
       "    }\n",
       "\n",
       "    function showError(err) {\n",
       "      outputDiv.innerHTML = `<div class=\"error\" style=\"color:red;\">${err}</div>`;\n",
       "      throw err;\n",
       "    }\n",
       "\n",
       "    function displayChart(vegaEmbed) {\n",
       "      vegaEmbed(outputDiv, spec, embedOpt)\n",
       "        .catch(err => showError(`Javascript Error: ${err.message}<br>This usually means there's a typo in your chart specification. See the javascript console for the full traceback.`));\n",
       "    }\n",
       "\n",
       "    if(typeof define === \"function\" && define.amd) {\n",
       "      requirejs.config({paths});\n",
       "      let deps = [\"vega-embed\"];\n",
       "      require(deps, displayChart, err => showError(`Error loading script: ${err.message}`));\n",
       "    } else {\n",
       "      maybeLoadScript(\"vega\", \"5\")\n",
       "        .then(() => maybeLoadScript(\"vega-lite\", \"5.20.1\"))\n",
       "        .then(() => maybeLoadScript(\"vega-embed\", \"6\"))\n",
       "        .catch(showError)\n",
       "        .then(() => displayChart(vegaEmbed));\n",
       "    }\n",
       "  })({\"config\": {\"view\": {\"continuousWidth\": 300, \"continuousHeight\": 300}}, \"data\": {\"name\": \"data-fefee46e0ec43accfc9174a0d0688a88\"}, \"mark\": {\"type\": \"bar\"}, \"encoding\": {\"color\": {\"field\": \"Member State\", \"legend\": {\"columns\": 2}, \"scale\": {\"scheme\": \"tableau20\"}, \"type\": \"nominal\"}, \"x\": {\"aggregate\": \"sum\", \"field\": \"Quantity\", \"title\": \"Fertiliser production, kg.\", \"type\": \"quantitative\"}, \"y\": {\"field\": \"Year\", \"title\": \"\", \"type\": \"nominal\"}}, \"title\": {\"text\": \"Fertiliser Production in EU\", \"anchor\": \"middle\"}, \"$schema\": \"https://vega.github.io/schema/vega-lite/v5.20.1.json\", \"datasets\": {\"data-fefee46e0ec43accfc9174a0d0688a88\": [{\"Year\": \"2019\", \"Member State\": \"Austria\", \"Quantity\": 519693499}, {\"Year\": \"2019\", \"Member State\": \"Belgium\", \"Quantity\": 4631500519}, {\"Year\": \"2019\", \"Member State\": \"Bulgaria\", \"Quantity\": 2927608}, {\"Year\": \"2019\", \"Member State\": \"Croatia\", \"Quantity\": 1015104000}, {\"Year\": \"2019\", \"Member State\": \"Czechia\", \"Quantity\": 552875000}, {\"Year\": \"2019\", \"Member State\": \"Estonia\", \"Quantity\": 637800}, {\"Year\": \"2019\", \"Member State\": \"Finland\", \"Quantity\": 3924081797}, {\"Year\": \"2019\", \"Member State\": \"France\", \"Quantity\": 4817259216}, {\"Year\": \"2019\", \"Member State\": \"Germany\", \"Quantity\": 5119511000}, {\"Year\": \"2019\", \"Member State\": \"Greece\", \"Quantity\": 804160620}, {\"Year\": \"2019\", \"Member State\": \"Hungary\", \"Quantity\": 391512000}, {\"Year\": \"2019\", \"Member State\": \"Ireland\", \"Quantity\": 824669918}, {\"Year\": \"2019\", \"Member State\": \"Italy\", \"Quantity\": 2906464000}, {\"Year\": \"2019\", \"Member State\": \"Lithuania\", \"Quantity\": 3215469535}, {\"Year\": \"2019\", \"Member State\": \"Netherlands\", \"Quantity\": 521575000}, {\"Year\": \"2019\", \"Member State\": \"Poland\", \"Quantity\": 5637334000}, {\"Year\": \"2019\", \"Member State\": \"Portugal\", \"Quantity\": 390856660}, {\"Year\": \"2019\", \"Member State\": \"Romania\", \"Quantity\": 334900}, {\"Year\": \"2019\", \"Member State\": \"Slovakia\", \"Quantity\": 1421530537}, {\"Year\": \"2019\", \"Member State\": \"Spain\", \"Quantity\": 4963867000}, {\"Year\": \"2020\", \"Member State\": \"Austria\", \"Quantity\": 531195285}, {\"Year\": \"2020\", \"Member State\": \"Bulgaria\", \"Quantity\": 3752880}, {\"Year\": \"2020\", \"Member State\": \"Croatia\", \"Quantity\": 956341191}, {\"Year\": \"2020\", \"Member State\": \"Czechia\", \"Quantity\": 501326000}, {\"Year\": \"2020\", \"Member State\": \"Finland\", \"Quantity\": 3987728341}, {\"Year\": \"2020\", \"Member State\": \"France\", \"Quantity\": 6067127427}, {\"Year\": \"2020\", \"Member State\": \"Germany\", \"Quantity\": 5017607000}, {\"Year\": \"2020\", \"Member State\": \"Greece\", \"Quantity\": 869423102}, {\"Year\": \"2020\", \"Member State\": \"Hungary\", \"Quantity\": 429322000}, {\"Year\": \"2020\", \"Member State\": \"Ireland\", \"Quantity\": 1006535436}, {\"Year\": \"2020\", \"Member State\": \"Italy\", \"Quantity\": 1732842000}, {\"Year\": \"2020\", \"Member State\": \"Lithuania\", \"Quantity\": 3270762453}, {\"Year\": \"2020\", \"Member State\": \"Netherlands\", \"Quantity\": 914990000}, {\"Year\": \"2020\", \"Member State\": \"Poland\", \"Quantity\": 5555117000}, {\"Year\": \"2020\", \"Member State\": \"Portugal\", \"Quantity\": 353132118}, {\"Year\": \"2020\", \"Member State\": \"Romania\", \"Quantity\": 1048675967}, {\"Year\": \"2020\", \"Member State\": \"Slovakia\", \"Quantity\": 1361501255}, {\"Year\": \"2020\", \"Member State\": \"Spain\", \"Quantity\": 5024921000}, {\"Year\": \"2020\", \"Member State\": \"Sweden\", \"Quantity\": 456026900}, {\"Year\": \"2021\", \"Member State\": \"Austria\", \"Quantity\": 483514654}, {\"Year\": \"2021\", \"Member State\": \"Belgium\", \"Quantity\": 4184841904}, {\"Year\": \"2021\", \"Member State\": \"Bulgaria\", \"Quantity\": 104836018}, {\"Year\": \"2021\", \"Member State\": \"Croatia\", \"Quantity\": 633320730}, {\"Year\": \"2021\", \"Member State\": \"Czechia\", \"Quantity\": 499062000}, {\"Year\": \"2021\", \"Member State\": \"Finland\", \"Quantity\": 5912063200}, {\"Year\": \"2021\", \"Member State\": \"France\", \"Quantity\": 5977937178}, {\"Year\": \"2021\", \"Member State\": \"Germany\", \"Quantity\": 4810994000}, {\"Year\": \"2021\", \"Member State\": \"Greece\", \"Quantity\": 893854808}, {\"Year\": \"2021\", \"Member State\": \"Hungary\", \"Quantity\": 474744000}, {\"Year\": \"2021\", \"Member State\": \"Italy\", \"Quantity\": 2664873000}, {\"Year\": \"2021\", \"Member State\": \"Lithuania\", \"Quantity\": 2904319514}, {\"Year\": \"2021\", \"Member State\": \"Netherlands\", \"Quantity\": 933550000}, {\"Year\": \"2021\", \"Member State\": \"Poland\", \"Quantity\": 5348163000}, {\"Year\": \"2021\", \"Member State\": \"Portugal\", \"Quantity\": 182271118}, {\"Year\": \"2021\", \"Member State\": \"Romania\", \"Quantity\": 939150197}, {\"Year\": \"2021\", \"Member State\": \"Slovakia\", \"Quantity\": 1670543990}, {\"Year\": \"2021\", \"Member State\": \"Spain\", \"Quantity\": 6257403000}, {\"Year\": \"2021\", \"Member State\": \"Sweden\", \"Quantity\": 78825000}, {\"Year\": \"2022\", \"Member State\": \"Austria\", \"Quantity\": 620225202}, {\"Year\": \"2022\", \"Member State\": \"Belgium\", \"Quantity\": 4003717072}, {\"Year\": \"2022\", \"Member State\": \"Bulgaria\", \"Quantity\": 80391540}, {\"Year\": \"2022\", \"Member State\": \"Croatia\", \"Quantity\": 178462351}, {\"Year\": \"2022\", \"Member State\": \"Czechia\", \"Quantity\": 533728000}, {\"Year\": \"2022\", \"Member State\": \"Finland\", \"Quantity\": 8721668131}, {\"Year\": \"2022\", \"Member State\": \"France\", \"Quantity\": 6147430718}, {\"Year\": \"2022\", \"Member State\": \"Germany\", \"Quantity\": 3749115000}, {\"Year\": \"2022\", \"Member State\": \"Hungary\", \"Quantity\": 361417000}, {\"Year\": \"2022\", \"Member State\": \"Italy\", \"Quantity\": 2349143000}, {\"Year\": \"2022\", \"Member State\": \"Latvia\", \"Quantity\": 8309345}, {\"Year\": \"2022\", \"Member State\": \"Lithuania\", \"Quantity\": 1453367101}, {\"Year\": \"2022\", \"Member State\": \"Netherlands\", \"Quantity\": 752256000}, {\"Year\": \"2022\", \"Member State\": \"Poland\", \"Quantity\": 4873236000}, {\"Year\": \"2022\", \"Member State\": \"Portugal\", \"Quantity\": 171608876}, {\"Year\": \"2022\", \"Member State\": \"Romania\", \"Quantity\": 80833651}, {\"Year\": \"2022\", \"Member State\": \"Slovakia\", \"Quantity\": 895340745}, {\"Year\": \"2022\", \"Member State\": \"Spain\", \"Quantity\": 5973866000}, {\"Year\": \"2022\", \"Member State\": \"Sweden\", \"Quantity\": 174790200}, {\"Year\": \"2023\", \"Member State\": \"Austria\", \"Quantity\": 359384805}, {\"Year\": \"2023\", \"Member State\": \"Belgium\", \"Quantity\": 3842289393}, {\"Year\": \"2023\", \"Member State\": \"Bulgaria\", \"Quantity\": 212327160}, {\"Year\": \"2023\", \"Member State\": \"Croatia\", \"Quantity\": 217195600}, {\"Year\": \"2023\", \"Member State\": \"Czechia\", \"Quantity\": 582862000}, {\"Year\": \"2023\", \"Member State\": \"Estonia\", \"Quantity\": 4170849}, {\"Year\": \"2023\", \"Member State\": \"Finland\", \"Quantity\": 5973601120}, {\"Year\": \"2023\", \"Member State\": \"France\", \"Quantity\": 5127094271}, {\"Year\": \"2023\", \"Member State\": \"Germany\", \"Quantity\": 261258000}, {\"Year\": \"2023\", \"Member State\": \"Greece\", \"Quantity\": 1088525105}, {\"Year\": \"2023\", \"Member State\": \"Hungary\", \"Quantity\": 229603000}, {\"Year\": \"2023\", \"Member State\": \"Italy\", \"Quantity\": 1973076000}, {\"Year\": \"2023\", \"Member State\": \"Lithuania\", \"Quantity\": 1408293210}, {\"Year\": \"2023\", \"Member State\": \"Netherlands\", \"Quantity\": 552523401}, {\"Year\": \"2023\", \"Member State\": \"Poland\", \"Quantity\": 4098389000}, {\"Year\": \"2023\", \"Member State\": \"Portugal\", \"Quantity\": 183815549}, {\"Year\": \"2023\", \"Member State\": \"Romania\", \"Quantity\": 95211969}, {\"Year\": \"2023\", \"Member State\": \"Slovakia\", \"Quantity\": 1155319939}, {\"Year\": \"2023\", \"Member State\": \"Spain\", \"Quantity\": 4948231000}, {\"Year\": \"2023\", \"Member State\": \"Sweden\", \"Quantity\": 18897000}]}}, {\"mode\": \"vega-lite\"});\n",
       "</script>"
      ],
      "text/plain": [
       "alt.Chart(...)"
      ]
     },
     "execution_count": 7,
     "metadata": {},
     "output_type": "execute_result"
    }
   ],
   "source": [
    "alt.Chart(df1, title=alt.TitleParams('Fertiliser Production in EU', anchor='middle')).mark_bar().encode(\n",
    "    alt.X('sum(Quantity)', title='Fertiliser production, kg.'),\n",
    "    alt.Y('Year',title=''),\n",
    "    color=alt.Color('Member State', legend=alt.Legend(columns=2)).scale(scheme=\"tableau20\") \n",
    ")"
   ]
  },
  {
   "cell_type": "markdown",
   "id": "add063c9-8359-4171-8a16-9b5b7d0ddac2",
   "metadata": {},
   "source": [
    "---"
   ]
  },
  {
   "cell_type": "markdown",
   "id": "6b451b0f-c018-4ecb-a318-a5f5bf62213e",
   "metadata": {},
   "source": [
    "## Fertiliser Prices in EU"
   ]
  },
  {
   "cell_type": "markdown",
   "id": "b99b3941-6c8f-4d61-937c-b1cbd62b2ee1",
   "metadata": {},
   "source": [
    "**Data**\n",
    "<br>Fertiliser prices, retrieved from Directorate-General for Agriculture and Rural Development; https://agridata.ec.europa.eu/extensions/DashboardFertiliser/FertiliserPrices.html; Access: February 25, 2025."
   ]
  },
  {
   "cell_type": "code",
   "execution_count": 8,
   "id": "8ac05ee1-5afa-464c-b0f1-853affad879b",
   "metadata": {},
   "outputs": [
    {
     "name": "stdout",
     "output_type": "stream",
     "text": [
      "<class 'pandas.core.frame.DataFrame'>\n",
      "RangeIndex: 219 entries, 0 to 218\n",
      "Data columns (total 3 columns):\n",
      " #   Column   Non-Null Count  Dtype         \n",
      "---  ------   --------------  -----         \n",
      " 0   Date     219 non-null    datetime64[ns]\n",
      " 1   Product  219 non-null    object        \n",
      " 2   Price    219 non-null    int64         \n",
      "dtypes: datetime64[ns](1), int64(1), object(1)\n",
      "memory usage: 5.3+ KB\n"
     ]
    },
    {
     "name": "stderr",
     "output_type": "stream",
     "text": [
      "C:\\Users\\MCB User\\AppData\\Local\\Temp\\ipykernel_2860\\2243489525.py:3: UserWarning: Could not infer format, so each element will be parsed individually, falling back to `dateutil`. To ensure parsing is consistent and as-expected, please specify a format.\n",
      "  df2['Month_Year'] = pd.to_datetime(df2['Month_Year'])\n"
     ]
    }
   ],
   "source": [
    "df2 = pd.read_excel('2f560f9f-03d3-422f-b2f2-022c02d7b107.xlsx')\n",
    "df2 = df2.dropna()\n",
    "df2['Month_Year'] = pd.to_datetime(df2['Month_Year'])\n",
    "df2 = df2.rename(columns={\"Month_Year\": \"Date\", \"Price (€/tonne)\": \"Price\"})\n",
    "df2.info()"
   ]
  },
  {
   "cell_type": "code",
   "execution_count": 9,
   "id": "1e8b65bd-16fc-4fb8-96c0-3459aa48259b",
   "metadata": {},
   "outputs": [
    {
     "data": {
      "text/html": [
       "<div>\n",
       "<style scoped>\n",
       "    .dataframe tbody tr th:only-of-type {\n",
       "        vertical-align: middle;\n",
       "    }\n",
       "\n",
       "    .dataframe tbody tr th {\n",
       "        vertical-align: top;\n",
       "    }\n",
       "\n",
       "    .dataframe thead th {\n",
       "        text-align: right;\n",
       "    }\n",
       "</style>\n",
       "<table border=\"1\" class=\"dataframe\">\n",
       "  <thead>\n",
       "    <tr style=\"text-align: right;\">\n",
       "      <th></th>\n",
       "      <th>Date</th>\n",
       "      <th>Product</th>\n",
       "      <th>Price</th>\n",
       "    </tr>\n",
       "  </thead>\n",
       "  <tbody>\n",
       "    <tr>\n",
       "      <th>0</th>\n",
       "      <td>2019-01-01</td>\n",
       "      <td>K (Potash)</td>\n",
       "      <td>297</td>\n",
       "    </tr>\n",
       "    <tr>\n",
       "      <th>1</th>\n",
       "      <td>2019-01-01</td>\n",
       "      <td>N (Nitrogen)</td>\n",
       "      <td>263</td>\n",
       "    </tr>\n",
       "    <tr>\n",
       "      <th>2</th>\n",
       "      <td>2019-01-01</td>\n",
       "      <td>P (Phosphorus)</td>\n",
       "      <td>423</td>\n",
       "    </tr>\n",
       "    <tr>\n",
       "      <th>3</th>\n",
       "      <td>2019-02-01</td>\n",
       "      <td>K (Potash)</td>\n",
       "      <td>295</td>\n",
       "    </tr>\n",
       "    <tr>\n",
       "      <th>4</th>\n",
       "      <td>2019-02-01</td>\n",
       "      <td>N (Nitrogen)</td>\n",
       "      <td>249</td>\n",
       "    </tr>\n",
       "  </tbody>\n",
       "</table>\n",
       "</div>"
      ],
      "text/plain": [
       "        Date         Product  Price\n",
       "0 2019-01-01      K (Potash)    297\n",
       "1 2019-01-01    N (Nitrogen)    263\n",
       "2 2019-01-01  P (Phosphorus)    423\n",
       "3 2019-02-01      K (Potash)    295\n",
       "4 2019-02-01    N (Nitrogen)    249"
      ]
     },
     "execution_count": 9,
     "metadata": {},
     "output_type": "execute_result"
    }
   ],
   "source": [
    "df2 = df2.loc[df2['Date'] >= pd.Timestamp('2019-01-01 00:00:00')].reset_index(drop=True)\n",
    "df2.head()"
   ]
  },
  {
   "cell_type": "code",
   "execution_count": 11,
   "id": "bca45ce3-bafa-4136-886f-fc2bf2a0afb7",
   "metadata": {},
   "outputs": [
    {
     "data": {
      "text/html": [
       "\n",
       "<style>\n",
       "  #altair-viz-b023c47f42cf41a496ca6d827cb445d8.vega-embed {\n",
       "    width: 100%;\n",
       "    display: flex;\n",
       "  }\n",
       "\n",
       "  #altair-viz-b023c47f42cf41a496ca6d827cb445d8.vega-embed details,\n",
       "  #altair-viz-b023c47f42cf41a496ca6d827cb445d8.vega-embed details summary {\n",
       "    position: relative;\n",
       "  }\n",
       "</style>\n",
       "<div id=\"altair-viz-b023c47f42cf41a496ca6d827cb445d8\"></div>\n",
       "<script type=\"text/javascript\">\n",
       "  var VEGA_DEBUG = (typeof VEGA_DEBUG == \"undefined\") ? {} : VEGA_DEBUG;\n",
       "  (function(spec, embedOpt){\n",
       "    let outputDiv = document.currentScript.previousElementSibling;\n",
       "    if (outputDiv.id !== \"altair-viz-b023c47f42cf41a496ca6d827cb445d8\") {\n",
       "      outputDiv = document.getElementById(\"altair-viz-b023c47f42cf41a496ca6d827cb445d8\");\n",
       "    }\n",
       "\n",
       "    const paths = {\n",
       "      \"vega\": \"https://cdn.jsdelivr.net/npm/vega@5?noext\",\n",
       "      \"vega-lib\": \"https://cdn.jsdelivr.net/npm/vega-lib?noext\",\n",
       "      \"vega-lite\": \"https://cdn.jsdelivr.net/npm/vega-lite@5.20.1?noext\",\n",
       "      \"vega-embed\": \"https://cdn.jsdelivr.net/npm/vega-embed@6?noext\",\n",
       "    };\n",
       "\n",
       "    function maybeLoadScript(lib, version) {\n",
       "      var key = `${lib.replace(\"-\", \"\")}_version`;\n",
       "      return (VEGA_DEBUG[key] == version) ?\n",
       "        Promise.resolve(paths[lib]) :\n",
       "        new Promise(function(resolve, reject) {\n",
       "          var s = document.createElement('script');\n",
       "          document.getElementsByTagName(\"head\")[0].appendChild(s);\n",
       "          s.async = true;\n",
       "          s.onload = () => {\n",
       "            VEGA_DEBUG[key] = version;\n",
       "            return resolve(paths[lib]);\n",
       "          };\n",
       "          s.onerror = () => reject(`Error loading script: ${paths[lib]}`);\n",
       "          s.src = paths[lib];\n",
       "        });\n",
       "    }\n",
       "\n",
       "    function showError(err) {\n",
       "      outputDiv.innerHTML = `<div class=\"error\" style=\"color:red;\">${err}</div>`;\n",
       "      throw err;\n",
       "    }\n",
       "\n",
       "    function displayChart(vegaEmbed) {\n",
       "      vegaEmbed(outputDiv, spec, embedOpt)\n",
       "        .catch(err => showError(`Javascript Error: ${err.message}<br>This usually means there's a typo in your chart specification. See the javascript console for the full traceback.`));\n",
       "    }\n",
       "\n",
       "    if(typeof define === \"function\" && define.amd) {\n",
       "      requirejs.config({paths});\n",
       "      let deps = [\"vega-embed\"];\n",
       "      require(deps, displayChart, err => showError(`Error loading script: ${err.message}`));\n",
       "    } else {\n",
       "      maybeLoadScript(\"vega\", \"5\")\n",
       "        .then(() => maybeLoadScript(\"vega-lite\", \"5.20.1\"))\n",
       "        .then(() => maybeLoadScript(\"vega-embed\", \"6\"))\n",
       "        .catch(showError)\n",
       "        .then(() => displayChart(vegaEmbed));\n",
       "    }\n",
       "  })({\"config\": {\"view\": {\"continuousWidth\": 300, \"continuousHeight\": 300}}, \"layer\": [{\"mark\": {\"type\": \"line\"}, \"encoding\": {\"color\": {\"field\": \"Product\", \"legend\": null, \"scale\": {\"scheme\": \"dark2\"}, \"type\": \"nominal\"}, \"x\": {\"field\": \"Date\", \"title\": \"\", \"type\": \"temporal\"}, \"y\": {\"field\": \"Price\", \"title\": \"Price, \\u20ac/tonne\", \"type\": \"quantitative\"}}, \"title\": {\"text\": \"Fertiliser Prices in EU\", \"anchor\": \"middle\"}}, {\"mark\": {\"type\": \"circle\"}, \"encoding\": {\"color\": {\"field\": \"Product\", \"legend\": null, \"scale\": {\"scheme\": \"dark2\"}, \"type\": \"nominal\"}, \"text\": {\"field\": \"Product\", \"type\": \"nominal\"}, \"x\": {\"aggregate\": \"max\", \"field\": \"Date\", \"type\": \"temporal\"}, \"y\": {\"aggregate\": {\"argmax\": \"Date\"}, \"field\": \"Price\", \"type\": \"quantitative\"}}, \"title\": {\"text\": \"Fertiliser Prices in EU\", \"anchor\": \"middle\"}}, {\"mark\": {\"type\": \"text\", \"align\": \"left\", \"dx\": 5}, \"encoding\": {\"color\": {\"field\": \"Product\", \"legend\": null, \"scale\": {\"scheme\": \"dark2\"}, \"type\": \"nominal\"}, \"text\": {\"field\": \"Product\", \"type\": \"nominal\"}, \"x\": {\"aggregate\": \"max\", \"field\": \"Date\", \"type\": \"temporal\"}, \"y\": {\"aggregate\": {\"argmax\": \"Date\"}, \"field\": \"Price\", \"type\": \"quantitative\"}}, \"title\": {\"text\": \"Fertiliser Prices in EU\", \"anchor\": \"middle\"}}], \"data\": {\"name\": \"data-6b79ebd98d91b35325ec83f83f98359f\"}, \"$schema\": \"https://vega.github.io/schema/vega-lite/v5.20.1.json\", \"datasets\": {\"data-6b79ebd98d91b35325ec83f83f98359f\": [{\"Date\": \"2019-01-01T00:00:00\", \"Product\": \"K (Potash)\", \"Price\": 297}, {\"Date\": \"2019-01-01T00:00:00\", \"Product\": \"N (Nitrogen)\", \"Price\": 263}, {\"Date\": \"2019-01-01T00:00:00\", \"Product\": \"P (Phosphorus)\", \"Price\": 423}, {\"Date\": \"2019-02-01T00:00:00\", \"Product\": \"K (Potash)\", \"Price\": 295}, {\"Date\": \"2019-02-01T00:00:00\", \"Product\": \"N (Nitrogen)\", \"Price\": 249}, {\"Date\": \"2019-02-01T00:00:00\", \"Product\": \"P (Phosphorus)\", \"Price\": 418}, {\"Date\": \"2019-03-01T00:00:00\", \"Product\": \"K (Potash)\", \"Price\": 298}, {\"Date\": \"2019-03-01T00:00:00\", \"Product\": \"N (Nitrogen)\", \"Price\": 245}, {\"Date\": \"2019-03-01T00:00:00\", \"Product\": \"P (Phosphorus)\", \"Price\": 412}, {\"Date\": \"2019-04-01T00:00:00\", \"Product\": \"K (Potash)\", \"Price\": 300}, {\"Date\": \"2019-04-01T00:00:00\", \"Product\": \"N (Nitrogen)\", \"Price\": 231}, {\"Date\": \"2019-04-01T00:00:00\", \"Product\": \"P (Phosphorus)\", \"Price\": 398}, {\"Date\": \"2019-05-01T00:00:00\", \"Product\": \"K (Potash)\", \"Price\": 298}, {\"Date\": \"2019-05-01T00:00:00\", \"Product\": \"N (Nitrogen)\", \"Price\": 233}, {\"Date\": \"2019-05-01T00:00:00\", \"Product\": \"P (Phosphorus)\", \"Price\": 396}, {\"Date\": \"2019-06-01T00:00:00\", \"Product\": \"K (Potash)\", \"Price\": 298}, {\"Date\": \"2019-06-01T00:00:00\", \"Product\": \"N (Nitrogen)\", \"Price\": 235}, {\"Date\": \"2019-06-01T00:00:00\", \"Product\": \"P (Phosphorus)\", \"Price\": 372}, {\"Date\": \"2019-07-01T00:00:00\", \"Product\": \"K (Potash)\", \"Price\": 298}, {\"Date\": \"2019-07-01T00:00:00\", \"Product\": \"N (Nitrogen)\", \"Price\": 240}, {\"Date\": \"2019-07-01T00:00:00\", \"Product\": \"P (Phosphorus)\", \"Price\": 362}, {\"Date\": \"2019-08-01T00:00:00\", \"Product\": \"K (Potash)\", \"Price\": 290}, {\"Date\": \"2019-08-01T00:00:00\", \"Product\": \"N (Nitrogen)\", \"Price\": 237}, {\"Date\": \"2019-08-01T00:00:00\", \"Product\": \"P (Phosphorus)\", \"Price\": 347}, {\"Date\": \"2019-09-01T00:00:00\", \"Product\": \"K (Potash)\", \"Price\": 290}, {\"Date\": \"2019-09-01T00:00:00\", \"Product\": \"N (Nitrogen)\", \"Price\": 232}, {\"Date\": \"2019-09-01T00:00:00\", \"Product\": \"P (Phosphorus)\", \"Price\": 340}, {\"Date\": \"2019-10-01T00:00:00\", \"Product\": \"K (Potash)\", \"Price\": 277}, {\"Date\": \"2019-10-01T00:00:00\", \"Product\": \"N (Nitrogen)\", \"Price\": 230}, {\"Date\": \"2019-10-01T00:00:00\", \"Product\": \"P (Phosphorus)\", \"Price\": 330}, {\"Date\": \"2019-11-01T00:00:00\", \"Product\": \"K (Potash)\", \"Price\": 280}, {\"Date\": \"2019-11-01T00:00:00\", \"Product\": \"N (Nitrogen)\", \"Price\": 224}, {\"Date\": \"2019-11-01T00:00:00\", \"Product\": \"P (Phosphorus)\", \"Price\": 318}, {\"Date\": \"2019-12-01T00:00:00\", \"Product\": \"K (Potash)\", \"Price\": 280}, {\"Date\": \"2019-12-01T00:00:00\", \"Product\": \"N (Nitrogen)\", \"Price\": 215}, {\"Date\": \"2019-12-01T00:00:00\", \"Product\": \"P (Phosphorus)\", \"Price\": 305}, {\"Date\": \"2020-01-01T00:00:00\", \"Product\": \"K (Potash)\", \"Price\": 275}, {\"Date\": \"2020-01-01T00:00:00\", \"Product\": \"N (Nitrogen)\", \"Price\": 217}, {\"Date\": \"2020-01-01T00:00:00\", \"Product\": \"P (Phosphorus)\", \"Price\": 305}, {\"Date\": \"2020-02-01T00:00:00\", \"Product\": \"K (Potash)\", \"Price\": 275}, {\"Date\": \"2020-02-01T00:00:00\", \"Product\": \"N (Nitrogen)\", \"Price\": 215}, {\"Date\": \"2020-02-01T00:00:00\", \"Product\": \"P (Phosphorus)\", \"Price\": 316}, {\"Date\": \"2020-03-01T00:00:00\", \"Product\": \"K (Potash)\", \"Price\": 278}, {\"Date\": \"2020-03-01T00:00:00\", \"Product\": \"N (Nitrogen)\", \"Price\": 214}, {\"Date\": \"2020-03-01T00:00:00\", \"Product\": \"P (Phosphorus)\", \"Price\": 314}, {\"Date\": \"2020-04-01T00:00:00\", \"Product\": \"K (Potash)\", \"Price\": 273}, {\"Date\": \"2020-04-01T00:00:00\", \"Product\": \"N (Nitrogen)\", \"Price\": 205}, {\"Date\": \"2020-04-01T00:00:00\", \"Product\": \"P (Phosphorus)\", \"Price\": 316}, {\"Date\": \"2020-05-01T00:00:00\", \"Product\": \"K (Potash)\", \"Price\": 267}, {\"Date\": \"2020-05-01T00:00:00\", \"Product\": \"N (Nitrogen)\", \"Price\": 194}, {\"Date\": \"2020-05-01T00:00:00\", \"Product\": \"P (Phosphorus)\", \"Price\": 310}, {\"Date\": \"2020-06-01T00:00:00\", \"Product\": \"K (Potash)\", \"Price\": 250}, {\"Date\": \"2020-06-01T00:00:00\", \"Product\": \"N (Nitrogen)\", \"Price\": 186}, {\"Date\": \"2020-06-01T00:00:00\", \"Product\": \"P (Phosphorus)\", \"Price\": 300}, {\"Date\": \"2020-07-01T00:00:00\", \"Product\": \"K (Potash)\", \"Price\": 247}, {\"Date\": \"2020-07-01T00:00:00\", \"Product\": \"N (Nitrogen)\", \"Price\": 185}, {\"Date\": \"2020-07-01T00:00:00\", \"Product\": \"P (Phosphorus)\", \"Price\": 300}, {\"Date\": \"2020-08-01T00:00:00\", \"Product\": \"K (Potash)\", \"Price\": 247}, {\"Date\": \"2020-08-01T00:00:00\", \"Product\": \"N (Nitrogen)\", \"Price\": 190}, {\"Date\": \"2020-08-01T00:00:00\", \"Product\": \"P (Phosphorus)\", \"Price\": 307}, {\"Date\": \"2020-09-01T00:00:00\", \"Product\": \"K (Potash)\", \"Price\": 247}, {\"Date\": \"2020-09-01T00:00:00\", \"Product\": \"N (Nitrogen)\", \"Price\": 197}, {\"Date\": \"2020-09-01T00:00:00\", \"Product\": \"P (Phosphorus)\", \"Price\": 318}, {\"Date\": \"2020-10-01T00:00:00\", \"Product\": \"K (Potash)\", \"Price\": 243}, {\"Date\": \"2020-10-01T00:00:00\", \"Product\": \"N (Nitrogen)\", \"Price\": 197}, {\"Date\": \"2020-10-01T00:00:00\", \"Product\": \"P (Phosphorus)\", \"Price\": 326}, {\"Date\": \"2020-11-01T00:00:00\", \"Product\": \"K (Potash)\", \"Price\": 243}, {\"Date\": \"2020-11-01T00:00:00\", \"Product\": \"N (Nitrogen)\", \"Price\": 199}, {\"Date\": \"2020-11-01T00:00:00\", \"Product\": \"P (Phosphorus)\", \"Price\": 331}, {\"Date\": \"2020-12-01T00:00:00\", \"Product\": \"K (Potash)\", \"Price\": 241}, {\"Date\": \"2020-12-01T00:00:00\", \"Product\": \"N (Nitrogen)\", \"Price\": 203}, {\"Date\": \"2020-12-01T00:00:00\", \"Product\": \"P (Phosphorus)\", \"Price\": 341}, {\"Date\": \"2021-01-01T00:00:00\", \"Product\": \"K (Potash)\", \"Price\": 243}, {\"Date\": \"2021-01-01T00:00:00\", \"Product\": \"N (Nitrogen)\", \"Price\": 219}, {\"Date\": \"2021-01-01T00:00:00\", \"Product\": \"P (Phosphorus)\", \"Price\": 351}, {\"Date\": \"2021-02-01T00:00:00\", \"Product\": \"K (Potash)\", \"Price\": 247}, {\"Date\": \"2021-02-01T00:00:00\", \"Product\": \"N (Nitrogen)\", \"Price\": 277}, {\"Date\": \"2021-02-01T00:00:00\", \"Product\": \"P (Phosphorus)\", \"Price\": 447}, {\"Date\": \"2021-03-01T00:00:00\", \"Product\": \"K (Potash)\", \"Price\": 252}, {\"Date\": \"2021-03-01T00:00:00\", \"Product\": \"N (Nitrogen)\", \"Price\": 290}, {\"Date\": \"2021-03-01T00:00:00\", \"Product\": \"P (Phosphorus)\", \"Price\": 488}, {\"Date\": \"2021-04-01T00:00:00\", \"Product\": \"K (Potash)\", \"Price\": 262}, {\"Date\": \"2021-04-01T00:00:00\", \"Product\": \"N (Nitrogen)\", \"Price\": 294}, {\"Date\": \"2021-04-01T00:00:00\", \"Product\": \"P (Phosphorus)\", \"Price\": 508}, {\"Date\": \"2021-05-01T00:00:00\", \"Product\": \"K (Potash)\", \"Price\": 267}, {\"Date\": \"2021-05-01T00:00:00\", \"Product\": \"N (Nitrogen)\", \"Price\": 282}, {\"Date\": \"2021-05-01T00:00:00\", \"Product\": \"P (Phosphorus)\", \"Price\": 510}, {\"Date\": \"2021-06-01T00:00:00\", \"Product\": \"K (Potash)\", \"Price\": 325}, {\"Date\": \"2021-06-01T00:00:00\", \"Product\": \"N (Nitrogen)\", \"Price\": 294}, {\"Date\": \"2021-06-01T00:00:00\", \"Product\": \"P (Phosphorus)\", \"Price\": 559}, {\"Date\": \"2021-07-01T00:00:00\", \"Product\": \"K (Potash)\", \"Price\": 381}, {\"Date\": \"2021-07-01T00:00:00\", \"Product\": \"N (Nitrogen)\", \"Price\": 319}, {\"Date\": \"2021-07-01T00:00:00\", \"Product\": \"P (Phosphorus)\", \"Price\": 617}, {\"Date\": \"2021-08-01T00:00:00\", \"Product\": \"K (Potash)\", \"Price\": 427}, {\"Date\": \"2021-08-01T00:00:00\", \"Product\": \"N (Nitrogen)\", \"Price\": 334}, {\"Date\": \"2021-08-01T00:00:00\", \"Product\": \"P (Phosphorus)\", \"Price\": 624}, {\"Date\": \"2021-09-01T00:00:00\", \"Product\": \"K (Potash)\", \"Price\": 460}, {\"Date\": \"2021-09-01T00:00:00\", \"Product\": \"N (Nitrogen)\", \"Price\": 353}, {\"Date\": \"2021-09-01T00:00:00\", \"Product\": \"P (Phosphorus)\", \"Price\": 630}, {\"Date\": \"2021-10-01T00:00:00\", \"Product\": \"K (Potash)\", \"Price\": 510}, {\"Date\": \"2021-10-01T00:00:00\", \"Product\": \"N (Nitrogen)\", \"Price\": 593}, {\"Date\": \"2021-10-01T00:00:00\", \"Product\": \"P (Phosphorus)\", \"Price\": 671}, {\"Date\": \"2021-11-01T00:00:00\", \"Product\": \"K (Potash)\", \"Price\": 567}, {\"Date\": \"2021-11-01T00:00:00\", \"Product\": \"N (Nitrogen)\", \"Price\": 663}, {\"Date\": \"2021-11-01T00:00:00\", \"Product\": \"P (Phosphorus)\", \"Price\": 751}, {\"Date\": \"2021-12-01T00:00:00\", \"Product\": \"K (Potash)\", \"Price\": 565}, {\"Date\": \"2021-12-01T00:00:00\", \"Product\": \"N (Nitrogen)\", \"Price\": 709}, {\"Date\": \"2021-12-01T00:00:00\", \"Product\": \"P (Phosphorus)\", \"Price\": 812}, {\"Date\": \"2022-01-01T00:00:00\", \"Product\": \"K (Potash)\", \"Price\": 568}, {\"Date\": \"2022-01-01T00:00:00\", \"Product\": \"N (Nitrogen)\", \"Price\": 698}, {\"Date\": \"2022-01-01T00:00:00\", \"Product\": \"P (Phosphorus)\", \"Price\": 805}, {\"Date\": \"2022-02-01T00:00:00\", \"Product\": \"K (Potash)\", \"Price\": 560}, {\"Date\": \"2022-02-01T00:00:00\", \"Product\": \"N (Nitrogen)\", \"Price\": 673}, {\"Date\": \"2022-02-01T00:00:00\", \"Product\": \"P (Phosphorus)\", \"Price\": 810}, {\"Date\": \"2022-03-01T00:00:00\", \"Product\": \"K (Potash)\", \"Price\": 728}, {\"Date\": \"2022-03-01T00:00:00\", \"Product\": \"N (Nitrogen)\", \"Price\": 896}, {\"Date\": \"2022-03-01T00:00:00\", \"Product\": \"P (Phosphorus)\", \"Price\": 1005}, {\"Date\": \"2022-04-01T00:00:00\", \"Product\": \"K (Potash)\", \"Price\": 800}, {\"Date\": \"2022-04-01T00:00:00\", \"Product\": \"N (Nitrogen)\", \"Price\": 923}, {\"Date\": \"2022-04-01T00:00:00\", \"Product\": \"P (Phosphorus)\", \"Price\": 1118}, {\"Date\": \"2022-05-01T00:00:00\", \"Product\": \"K (Potash)\", \"Price\": 797}, {\"Date\": \"2022-05-01T00:00:00\", \"Product\": \"N (Nitrogen)\", \"Price\": 785}, {\"Date\": \"2022-05-01T00:00:00\", \"Product\": \"P (Phosphorus)\", \"Price\": 1129}, {\"Date\": \"2022-06-01T00:00:00\", \"Product\": \"K (Potash)\", \"Price\": 800}, {\"Date\": \"2022-06-01T00:00:00\", \"Product\": \"N (Nitrogen)\", \"Price\": 734}, {\"Date\": \"2022-06-01T00:00:00\", \"Product\": \"P (Phosphorus)\", \"Price\": 1107}, {\"Date\": \"2022-07-01T00:00:00\", \"Product\": \"K (Potash)\", \"Price\": 876}, {\"Date\": \"2022-07-01T00:00:00\", \"Product\": \"N (Nitrogen)\", \"Price\": 738}, {\"Date\": \"2022-07-01T00:00:00\", \"Product\": \"P (Phosphorus)\", \"Price\": 1085}, {\"Date\": \"2022-08-01T00:00:00\", \"Product\": \"K (Potash)\", \"Price\": 871}, {\"Date\": \"2022-08-01T00:00:00\", \"Product\": \"N (Nitrogen)\", \"Price\": 758}, {\"Date\": \"2022-08-01T00:00:00\", \"Product\": \"P (Phosphorus)\", \"Price\": 1052}, {\"Date\": \"2022-09-01T00:00:00\", \"Product\": \"K (Potash)\", \"Price\": 873}, {\"Date\": \"2022-09-01T00:00:00\", \"Product\": \"N (Nitrogen)\", \"Price\": 846}, {\"Date\": \"2022-09-01T00:00:00\", \"Product\": \"P (Phosphorus)\", \"Price\": 1029}, {\"Date\": \"2022-10-01T00:00:00\", \"Product\": \"K (Potash)\", \"Price\": 873}, {\"Date\": \"2022-10-01T00:00:00\", \"Product\": \"N (Nitrogen)\", \"Price\": 836}, {\"Date\": \"2022-10-01T00:00:00\", \"Product\": \"P (Phosphorus)\", \"Price\": 941}, {\"Date\": \"2022-11-01T00:00:00\", \"Product\": \"K (Potash)\", \"Price\": 837}, {\"Date\": \"2022-11-01T00:00:00\", \"Product\": \"N (Nitrogen)\", \"Price\": 752}, {\"Date\": \"2022-11-01T00:00:00\", \"Product\": \"P (Phosphorus)\", \"Price\": 868}, {\"Date\": \"2022-12-01T00:00:00\", \"Product\": \"K (Potash)\", \"Price\": 833}, {\"Date\": \"2022-12-01T00:00:00\", \"Product\": \"N (Nitrogen)\", \"Price\": 667}, {\"Date\": \"2022-12-01T00:00:00\", \"Product\": \"P (Phosphorus)\", \"Price\": 808}, {\"Date\": \"2023-01-01T00:00:00\", \"Product\": \"K (Potash)\", \"Price\": 793}, {\"Date\": \"2023-01-01T00:00:00\", \"Product\": \"N (Nitrogen)\", \"Price\": 595}, {\"Date\": \"2023-01-01T00:00:00\", \"Product\": \"P (Phosphorus)\", \"Price\": 774}, {\"Date\": \"2023-02-01T00:00:00\", \"Product\": \"K (Potash)\", \"Price\": 750}, {\"Date\": \"2023-02-01T00:00:00\", \"Product\": \"N (Nitrogen)\", \"Price\": 523}, {\"Date\": \"2023-02-01T00:00:00\", \"Product\": \"P (Phosphorus)\", \"Price\": 742}, {\"Date\": \"2023-03-01T00:00:00\", \"Product\": \"K (Potash)\", \"Price\": 727}, {\"Date\": \"2023-03-01T00:00:00\", \"Product\": \"N (Nitrogen)\", \"Price\": 447}, {\"Date\": \"2023-03-01T00:00:00\", \"Product\": \"P (Phosphorus)\", \"Price\": 715}, {\"Date\": \"2023-04-01T00:00:00\", \"Product\": \"K (Potash)\", \"Price\": 664}, {\"Date\": \"2023-04-01T00:00:00\", \"Product\": \"N (Nitrogen)\", \"Price\": 378}, {\"Date\": \"2023-04-01T00:00:00\", \"Product\": \"P (Phosphorus)\", \"Price\": 699}, {\"Date\": \"2023-05-01T00:00:00\", \"Product\": \"K (Potash)\", \"Price\": 558}, {\"Date\": \"2023-05-01T00:00:00\", \"Product\": \"N (Nitrogen)\", \"Price\": 351}, {\"Date\": \"2023-05-01T00:00:00\", \"Product\": \"P (Phosphorus)\", \"Price\": 637}, {\"Date\": \"2023-06-01T00:00:00\", \"Product\": \"K (Potash)\", \"Price\": 478}, {\"Date\": \"2023-06-01T00:00:00\", \"Product\": \"N (Nitrogen)\", \"Price\": 315}, {\"Date\": \"2023-06-01T00:00:00\", \"Product\": \"P (Phosphorus)\", \"Price\": 555}, {\"Date\": \"2023-07-01T00:00:00\", \"Product\": \"K (Potash)\", \"Price\": 417}, {\"Date\": \"2023-07-01T00:00:00\", \"Product\": \"N (Nitrogen)\", \"Price\": 337}, {\"Date\": \"2023-07-01T00:00:00\", \"Product\": \"P (Phosphorus)\", \"Price\": 515}, {\"Date\": \"2023-08-01T00:00:00\", \"Product\": \"K (Potash)\", \"Price\": 415}, {\"Date\": \"2023-08-01T00:00:00\", \"Product\": \"N (Nitrogen)\", \"Price\": 367}, {\"Date\": \"2023-08-01T00:00:00\", \"Product\": \"P (Phosphorus)\", \"Price\": 552}, {\"Date\": \"2023-09-01T00:00:00\", \"Product\": \"K (Potash)\", \"Price\": 415}, {\"Date\": \"2023-09-01T00:00:00\", \"Product\": \"N (Nitrogen)\", \"Price\": 376}, {\"Date\": \"2023-09-01T00:00:00\", \"Product\": \"P (Phosphorus)\", \"Price\": 568}, {\"Date\": \"2023-10-01T00:00:00\", \"Product\": \"K (Potash)\", \"Price\": 418}, {\"Date\": \"2023-10-01T00:00:00\", \"Product\": \"N (Nitrogen)\", \"Price\": 375}, {\"Date\": \"2023-10-01T00:00:00\", \"Product\": \"P (Phosphorus)\", \"Price\": 563}, {\"Date\": \"2023-11-01T00:00:00\", \"Product\": \"K (Potash)\", \"Price\": 405}, {\"Date\": \"2023-11-01T00:00:00\", \"Product\": \"N (Nitrogen)\", \"Price\": 375}, {\"Date\": \"2023-11-01T00:00:00\", \"Product\": \"P (Phosphorus)\", \"Price\": 619}, {\"Date\": \"2023-12-01T00:00:00\", \"Product\": \"K (Potash)\", \"Price\": 400}, {\"Date\": \"2023-12-01T00:00:00\", \"Product\": \"N (Nitrogen)\", \"Price\": 355}, {\"Date\": \"2023-12-01T00:00:00\", \"Product\": \"P (Phosphorus)\", \"Price\": 616}, {\"Date\": \"2024-01-01T00:00:00\", \"Product\": \"K (Potash)\", \"Price\": 400}, {\"Date\": \"2024-01-01T00:00:00\", \"Product\": \"N (Nitrogen)\", \"Price\": 340}, {\"Date\": \"2024-01-01T00:00:00\", \"Product\": \"P (Phosphorus)\", \"Price\": 599}, {\"Date\": \"2024-02-01T00:00:00\", \"Product\": \"K (Potash)\", \"Price\": 389}, {\"Date\": \"2024-02-01T00:00:00\", \"Product\": \"N (Nitrogen)\", \"Price\": 338}, {\"Date\": \"2024-02-01T00:00:00\", \"Product\": \"P (Phosphorus)\", \"Price\": 600}, {\"Date\": \"2024-03-01T00:00:00\", \"Product\": \"K (Potash)\", \"Price\": 380}, {\"Date\": \"2024-03-01T00:00:00\", \"Product\": \"N (Nitrogen)\", \"Price\": 330}, {\"Date\": \"2024-03-01T00:00:00\", \"Product\": \"P (Phosphorus)\", \"Price\": 605}, {\"Date\": \"2024-04-01T00:00:00\", \"Product\": \"K (Potash)\", \"Price\": 373}, {\"Date\": \"2024-04-01T00:00:00\", \"Product\": \"N (Nitrogen)\", \"Price\": 317}, {\"Date\": \"2024-04-01T00:00:00\", \"Product\": \"P (Phosphorus)\", \"Price\": 595}, {\"Date\": \"2024-05-01T00:00:00\", \"Product\": \"K (Potash)\", \"Price\": 371}, {\"Date\": \"2024-05-01T00:00:00\", \"Product\": \"N (Nitrogen)\", \"Price\": 307}, {\"Date\": \"2024-05-01T00:00:00\", \"Product\": \"P (Phosphorus)\", \"Price\": 589}, {\"Date\": \"2024-06-01T00:00:00\", \"Product\": \"K (Potash)\", \"Price\": 351}, {\"Date\": \"2024-06-01T00:00:00\", \"Product\": \"N (Nitrogen)\", \"Price\": 322}, {\"Date\": \"2024-06-01T00:00:00\", \"Product\": \"P (Phosphorus)\", \"Price\": 594}, {\"Date\": \"2024-07-01T00:00:00\", \"Product\": \"K (Potash)\", \"Price\": 350}, {\"Date\": \"2024-07-01T00:00:00\", \"Product\": \"N (Nitrogen)\", \"Price\": 324}, {\"Date\": \"2024-07-01T00:00:00\", \"Product\": \"P (Phosphorus)\", \"Price\": 608}, {\"Date\": \"2024-08-01T00:00:00\", \"Product\": \"K (Potash)\", \"Price\": 338}, {\"Date\": \"2024-08-01T00:00:00\", \"Product\": \"N (Nitrogen)\", \"Price\": 318}, {\"Date\": \"2024-08-01T00:00:00\", \"Product\": \"P (Phosphorus)\", \"Price\": 606}, {\"Date\": \"2024-09-01T00:00:00\", \"Product\": \"K (Potash)\", \"Price\": 340}, {\"Date\": \"2024-09-01T00:00:00\", \"Product\": \"N (Nitrogen)\", \"Price\": 321}, {\"Date\": \"2024-09-01T00:00:00\", \"Product\": \"P (Phosphorus)\", \"Price\": 617}, {\"Date\": \"2024-10-01T00:00:00\", \"Product\": \"K (Potash)\", \"Price\": 339}, {\"Date\": \"2024-10-01T00:00:00\", \"Product\": \"N (Nitrogen)\", \"Price\": 328}, {\"Date\": \"2024-10-01T00:00:00\", \"Product\": \"P (Phosphorus)\", \"Price\": 617}, {\"Date\": \"2024-11-01T00:00:00\", \"Product\": \"K (Potash)\", \"Price\": 333}, {\"Date\": \"2024-11-01T00:00:00\", \"Product\": \"N (Nitrogen)\", \"Price\": 335}, {\"Date\": \"2024-11-01T00:00:00\", \"Product\": \"P (Phosphorus)\", \"Price\": 605}, {\"Date\": \"2024-12-01T00:00:00\", \"Product\": \"K (Potash)\", \"Price\": 327}, {\"Date\": \"2024-12-01T00:00:00\", \"Product\": \"N (Nitrogen)\", \"Price\": 349}, {\"Date\": \"2024-12-01T00:00:00\", \"Product\": \"P (Phosphorus)\", \"Price\": 605}, {\"Date\": \"2025-01-01T00:00:00\", \"Product\": \"K (Potash)\", \"Price\": 327}, {\"Date\": \"2025-01-01T00:00:00\", \"Product\": \"N (Nitrogen)\", \"Price\": 367}, {\"Date\": \"2025-01-01T00:00:00\", \"Product\": \"P (Phosphorus)\", \"Price\": 613}]}}, {\"mode\": \"vega-lite\"});\n",
       "</script>"
      ],
      "text/plain": [
       "alt.LayerChart(...)"
      ]
     },
     "execution_count": 11,
     "metadata": {},
     "output_type": "execute_result"
    }
   ],
   "source": [
    "chart = alt.Chart(df2, title=alt.TitleParams('Fertiliser Prices in EU', anchor='middle')).encode(\n",
    "    alt.Color(\"Product\").scale(scheme=\"dark2\").legend(None)\n",
    ")\n",
    "\n",
    "line = chart.mark_line().encode(\n",
    "    alt.X(\"Date:T\", title=''),\n",
    "    alt.Y(\"Price:Q\", title='Price, €/tonne')\n",
    ")\n",
    "\n",
    "label = chart.encode(\n",
    "    x='max(Date):T',\n",
    "    y=alt.Y('Price:Q').aggregate(argmax='Date'),\n",
    "    text='Product'\n",
    ")\n",
    "\n",
    "text = label.mark_text(align='left', dx=5)\n",
    "\n",
    "circle = label.mark_circle()\n",
    "\n",
    "line + circle + text"
   ]
  },
  {
   "cell_type": "markdown",
   "id": "9814e71c-8d4d-4789-9d69-21d219ad4577",
   "metadata": {},
   "source": [
    "---"
   ]
  }
 ],
 "metadata": {
  "kernelspec": {
   "display_name": "Python 3 (ipykernel)",
   "language": "python",
   "name": "python3"
  },
  "language_info": {
   "codemirror_mode": {
    "name": "ipython",
    "version": 3
   },
   "file_extension": ".py",
   "mimetype": "text/x-python",
   "name": "python",
   "nbconvert_exporter": "python",
   "pygments_lexer": "ipython3",
   "version": "3.9.21"
  }
 },
 "nbformat": 4,
 "nbformat_minor": 5
}
